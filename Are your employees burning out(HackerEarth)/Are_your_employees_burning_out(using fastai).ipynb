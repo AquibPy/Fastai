{
  "nbformat": 4,
  "nbformat_minor": 0,
  "metadata": {
    "colab": {
      "name": "Are your employees burning out.ipynb",
      "provenance": [],
      "collapsed_sections": []
    },
    "kernelspec": {
      "name": "python3",
      "display_name": "Python 3"
    },
    "accelerator": "GPU"
  },
  "cells": [
    {
      "cell_type": "code",
      "metadata": {
        "id": "iMoowOtRSqHg"
      },
      "source": [
        "from fastai.tabular import *\n",
        "import pandas as pd\n",
        "import numpy as np"
      ],
      "execution_count": 1,
      "outputs": []
    },
    {
      "cell_type": "code",
      "metadata": {
        "id": "yZjgmbKKS--Z"
      },
      "source": [
        "df = pd.read_csv(\"/content/train.csv\")\n",
        "test = pd.read_csv(\"/content/test.csv\")\n",
        "sample = pd.read_csv(\"/content/sample_submission.csv\")"
      ],
      "execution_count": 2,
      "outputs": []
    },
    {
      "cell_type": "code",
      "metadata": {
        "id": "DecHvsLCT-ly",
        "outputId": "793ea024-7e07-451b-be9d-ce31b4cc8afa",
        "colab": {
          "base_uri": "https://localhost:8080/",
          "height": 195
        }
      },
      "source": [
        "df.head()"
      ],
      "execution_count": 3,
      "outputs": [
        {
          "output_type": "execute_result",
          "data": {
            "text/html": [
              "<div>\n",
              "<style scoped>\n",
              "    .dataframe tbody tr th:only-of-type {\n",
              "        vertical-align: middle;\n",
              "    }\n",
              "\n",
              "    .dataframe tbody tr th {\n",
              "        vertical-align: top;\n",
              "    }\n",
              "\n",
              "    .dataframe thead th {\n",
              "        text-align: right;\n",
              "    }\n",
              "</style>\n",
              "<table border=\"1\" class=\"dataframe\">\n",
              "  <thead>\n",
              "    <tr style=\"text-align: right;\">\n",
              "      <th></th>\n",
              "      <th>Employee ID</th>\n",
              "      <th>Date of Joining</th>\n",
              "      <th>Gender</th>\n",
              "      <th>Company Type</th>\n",
              "      <th>WFH Setup Available</th>\n",
              "      <th>Designation</th>\n",
              "      <th>Resource Allocation</th>\n",
              "      <th>Mental Fatigue Score</th>\n",
              "      <th>Burn Rate</th>\n",
              "    </tr>\n",
              "  </thead>\n",
              "  <tbody>\n",
              "    <tr>\n",
              "      <th>0</th>\n",
              "      <td>fffe32003000360033003200</td>\n",
              "      <td>2008-09-30</td>\n",
              "      <td>Female</td>\n",
              "      <td>Service</td>\n",
              "      <td>No</td>\n",
              "      <td>2.0</td>\n",
              "      <td>3.0</td>\n",
              "      <td>3.8</td>\n",
              "      <td>0.16</td>\n",
              "    </tr>\n",
              "    <tr>\n",
              "      <th>1</th>\n",
              "      <td>fffe3700360033003500</td>\n",
              "      <td>2008-11-30</td>\n",
              "      <td>Male</td>\n",
              "      <td>Service</td>\n",
              "      <td>Yes</td>\n",
              "      <td>1.0</td>\n",
              "      <td>2.0</td>\n",
              "      <td>5.0</td>\n",
              "      <td>0.36</td>\n",
              "    </tr>\n",
              "    <tr>\n",
              "      <th>2</th>\n",
              "      <td>fffe31003300320037003900</td>\n",
              "      <td>2008-03-10</td>\n",
              "      <td>Female</td>\n",
              "      <td>Product</td>\n",
              "      <td>Yes</td>\n",
              "      <td>2.0</td>\n",
              "      <td>NaN</td>\n",
              "      <td>5.8</td>\n",
              "      <td>0.49</td>\n",
              "    </tr>\n",
              "    <tr>\n",
              "      <th>3</th>\n",
              "      <td>fffe32003400380032003900</td>\n",
              "      <td>2008-11-03</td>\n",
              "      <td>Male</td>\n",
              "      <td>Service</td>\n",
              "      <td>Yes</td>\n",
              "      <td>1.0</td>\n",
              "      <td>1.0</td>\n",
              "      <td>2.6</td>\n",
              "      <td>0.20</td>\n",
              "    </tr>\n",
              "    <tr>\n",
              "      <th>4</th>\n",
              "      <td>fffe31003900340031003600</td>\n",
              "      <td>2008-07-24</td>\n",
              "      <td>Female</td>\n",
              "      <td>Service</td>\n",
              "      <td>No</td>\n",
              "      <td>3.0</td>\n",
              "      <td>7.0</td>\n",
              "      <td>6.9</td>\n",
              "      <td>0.52</td>\n",
              "    </tr>\n",
              "  </tbody>\n",
              "</table>\n",
              "</div>"
            ],
            "text/plain": [
              "                Employee ID Date of Joining  ... Mental Fatigue Score Burn Rate\n",
              "0  fffe32003000360033003200      2008-09-30  ...                  3.8      0.16\n",
              "1      fffe3700360033003500      2008-11-30  ...                  5.0      0.36\n",
              "2  fffe31003300320037003900      2008-03-10  ...                  5.8      0.49\n",
              "3  fffe32003400380032003900      2008-11-03  ...                  2.6      0.20\n",
              "4  fffe31003900340031003600      2008-07-24  ...                  6.9      0.52\n",
              "\n",
              "[5 rows x 9 columns]"
            ]
          },
          "metadata": {
            "tags": []
          },
          "execution_count": 3
        }
      ]
    },
    {
      "cell_type": "code",
      "metadata": {
        "id": "laOtXnMMTpe7",
        "outputId": "04a71d41-9c54-4b6c-f963-70edad6f2c3f",
        "colab": {
          "base_uri": "https://localhost:8080/"
        }
      },
      "source": [
        "df.columns"
      ],
      "execution_count": 4,
      "outputs": [
        {
          "output_type": "execute_result",
          "data": {
            "text/plain": [
              "Index(['Employee ID', 'Date of Joining', 'Gender', 'Company Type',\n",
              "       'WFH Setup Available', 'Designation', 'Resource Allocation',\n",
              "       'Mental Fatigue Score', 'Burn Rate'],\n",
              "      dtype='object')"
            ]
          },
          "metadata": {
            "tags": []
          },
          "execution_count": 4
        }
      ]
    },
    {
      "cell_type": "code",
      "metadata": {
        "id": "jBG_SafNpLd5",
        "outputId": "e0f7a1de-218d-4ba0-d3f3-09f13b61795b",
        "colab": {
          "base_uri": "https://localhost:8080/"
        }
      },
      "source": [
        "df.isnull().sum()"
      ],
      "execution_count": 5,
      "outputs": [
        {
          "output_type": "execute_result",
          "data": {
            "text/plain": [
              "Employee ID                0\n",
              "Date of Joining            0\n",
              "Gender                     0\n",
              "Company Type               0\n",
              "WFH Setup Available        0\n",
              "Designation                0\n",
              "Resource Allocation     1381\n",
              "Mental Fatigue Score    2117\n",
              "Burn Rate               1124\n",
              "dtype: int64"
            ]
          },
          "metadata": {
            "tags": []
          },
          "execution_count": 5
        }
      ]
    },
    {
      "cell_type": "code",
      "metadata": {
        "id": "HMxg7Nd9pQoV"
      },
      "source": [
        "df.dropna(axis = 0,inplace=True)"
      ],
      "execution_count": 6,
      "outputs": []
    },
    {
      "cell_type": "code",
      "metadata": {
        "id": "uHHt461mTxyL"
      },
      "source": [
        "df.drop(\"Employee ID\",axis=1,inplace=True)\n",
        "test.drop(\"Employee ID\",axis=1,inplace=True)\n",
        "df.drop_duplicates(inplace=True)"
      ],
      "execution_count": 7,
      "outputs": []
    },
    {
      "cell_type": "code",
      "metadata": {
        "id": "xc8kvLtSUSOi",
        "outputId": "c8bf9e21-a723-4dde-9daf-9b42281d9770",
        "colab": {
          "base_uri": "https://localhost:8080/"
        }
      },
      "source": [
        "df = add_datepart(df, 'Date of Joining')"
      ],
      "execution_count": 8,
      "outputs": [
        {
          "output_type": "stream",
          "text": [
            "/usr/local/lib/python3.6/dist-packages/fastai/tabular/transform.py:63: FutureWarning: Series.dt.weekofyear and Series.dt.week have been deprecated.  Please use Series.dt.isocalendar().week instead.\n",
            "  for n in attr: df[prefix + n] = getattr(field.dt, n.lower())\n"
          ],
          "name": "stderr"
        }
      ]
    },
    {
      "cell_type": "code",
      "metadata": {
        "id": "22Pn7LxToqkl",
        "outputId": "5658d5fc-71cd-4562-edc3-d8fb0803d884",
        "colab": {
          "base_uri": "https://localhost:8080/",
          "height": 249
        }
      },
      "source": [
        "df.head()"
      ],
      "execution_count": 9,
      "outputs": [
        {
          "output_type": "execute_result",
          "data": {
            "text/html": [
              "<div>\n",
              "<style scoped>\n",
              "    .dataframe tbody tr th:only-of-type {\n",
              "        vertical-align: middle;\n",
              "    }\n",
              "\n",
              "    .dataframe tbody tr th {\n",
              "        vertical-align: top;\n",
              "    }\n",
              "\n",
              "    .dataframe thead th {\n",
              "        text-align: right;\n",
              "    }\n",
              "</style>\n",
              "<table border=\"1\" class=\"dataframe\">\n",
              "  <thead>\n",
              "    <tr style=\"text-align: right;\">\n",
              "      <th></th>\n",
              "      <th>Gender</th>\n",
              "      <th>Company Type</th>\n",
              "      <th>WFH Setup Available</th>\n",
              "      <th>Designation</th>\n",
              "      <th>Resource Allocation</th>\n",
              "      <th>Mental Fatigue Score</th>\n",
              "      <th>Burn Rate</th>\n",
              "      <th>Date of JoiningYear</th>\n",
              "      <th>Date of JoiningMonth</th>\n",
              "      <th>Date of JoiningWeek</th>\n",
              "      <th>Date of JoiningDay</th>\n",
              "      <th>Date of JoiningDayofweek</th>\n",
              "      <th>Date of JoiningDayofyear</th>\n",
              "      <th>Date of JoiningIs_month_end</th>\n",
              "      <th>Date of JoiningIs_month_start</th>\n",
              "      <th>Date of JoiningIs_quarter_end</th>\n",
              "      <th>Date of JoiningIs_quarter_start</th>\n",
              "      <th>Date of JoiningIs_year_end</th>\n",
              "      <th>Date of JoiningIs_year_start</th>\n",
              "      <th>Date of JoiningElapsed</th>\n",
              "    </tr>\n",
              "  </thead>\n",
              "  <tbody>\n",
              "    <tr>\n",
              "      <th>0</th>\n",
              "      <td>Female</td>\n",
              "      <td>Service</td>\n",
              "      <td>No</td>\n",
              "      <td>2.0</td>\n",
              "      <td>3.0</td>\n",
              "      <td>3.8</td>\n",
              "      <td>0.16</td>\n",
              "      <td>2008</td>\n",
              "      <td>9</td>\n",
              "      <td>40</td>\n",
              "      <td>30</td>\n",
              "      <td>1</td>\n",
              "      <td>274</td>\n",
              "      <td>True</td>\n",
              "      <td>False</td>\n",
              "      <td>True</td>\n",
              "      <td>False</td>\n",
              "      <td>False</td>\n",
              "      <td>False</td>\n",
              "      <td>1222732800</td>\n",
              "    </tr>\n",
              "    <tr>\n",
              "      <th>1</th>\n",
              "      <td>Male</td>\n",
              "      <td>Service</td>\n",
              "      <td>Yes</td>\n",
              "      <td>1.0</td>\n",
              "      <td>2.0</td>\n",
              "      <td>5.0</td>\n",
              "      <td>0.36</td>\n",
              "      <td>2008</td>\n",
              "      <td>11</td>\n",
              "      <td>48</td>\n",
              "      <td>30</td>\n",
              "      <td>6</td>\n",
              "      <td>335</td>\n",
              "      <td>True</td>\n",
              "      <td>False</td>\n",
              "      <td>False</td>\n",
              "      <td>False</td>\n",
              "      <td>False</td>\n",
              "      <td>False</td>\n",
              "      <td>1228003200</td>\n",
              "    </tr>\n",
              "    <tr>\n",
              "      <th>3</th>\n",
              "      <td>Male</td>\n",
              "      <td>Service</td>\n",
              "      <td>Yes</td>\n",
              "      <td>1.0</td>\n",
              "      <td>1.0</td>\n",
              "      <td>2.6</td>\n",
              "      <td>0.20</td>\n",
              "      <td>2008</td>\n",
              "      <td>11</td>\n",
              "      <td>45</td>\n",
              "      <td>3</td>\n",
              "      <td>0</td>\n",
              "      <td>308</td>\n",
              "      <td>False</td>\n",
              "      <td>False</td>\n",
              "      <td>False</td>\n",
              "      <td>False</td>\n",
              "      <td>False</td>\n",
              "      <td>False</td>\n",
              "      <td>1225670400</td>\n",
              "    </tr>\n",
              "    <tr>\n",
              "      <th>4</th>\n",
              "      <td>Female</td>\n",
              "      <td>Service</td>\n",
              "      <td>No</td>\n",
              "      <td>3.0</td>\n",
              "      <td>7.0</td>\n",
              "      <td>6.9</td>\n",
              "      <td>0.52</td>\n",
              "      <td>2008</td>\n",
              "      <td>7</td>\n",
              "      <td>30</td>\n",
              "      <td>24</td>\n",
              "      <td>3</td>\n",
              "      <td>206</td>\n",
              "      <td>False</td>\n",
              "      <td>False</td>\n",
              "      <td>False</td>\n",
              "      <td>False</td>\n",
              "      <td>False</td>\n",
              "      <td>False</td>\n",
              "      <td>1216857600</td>\n",
              "    </tr>\n",
              "    <tr>\n",
              "      <th>5</th>\n",
              "      <td>Male</td>\n",
              "      <td>Product</td>\n",
              "      <td>Yes</td>\n",
              "      <td>2.0</td>\n",
              "      <td>4.0</td>\n",
              "      <td>3.6</td>\n",
              "      <td>0.29</td>\n",
              "      <td>2008</td>\n",
              "      <td>11</td>\n",
              "      <td>48</td>\n",
              "      <td>26</td>\n",
              "      <td>2</td>\n",
              "      <td>331</td>\n",
              "      <td>False</td>\n",
              "      <td>False</td>\n",
              "      <td>False</td>\n",
              "      <td>False</td>\n",
              "      <td>False</td>\n",
              "      <td>False</td>\n",
              "      <td>1227657600</td>\n",
              "    </tr>\n",
              "  </tbody>\n",
              "</table>\n",
              "</div>"
            ],
            "text/plain": [
              "   Gender Company Type  ... Date of JoiningIs_year_start  Date of JoiningElapsed\n",
              "0  Female      Service  ...                        False              1222732800\n",
              "1    Male      Service  ...                        False              1228003200\n",
              "3    Male      Service  ...                        False              1225670400\n",
              "4  Female      Service  ...                        False              1216857600\n",
              "5    Male      Product  ...                        False              1227657600\n",
              "\n",
              "[5 rows x 20 columns]"
            ]
          },
          "metadata": {
            "tags": []
          },
          "execution_count": 9
        }
      ]
    },
    {
      "cell_type": "code",
      "metadata": {
        "id": "G2G3SBntjhnf",
        "outputId": "76cad06b-1605-4605-cbd9-0a23ec076512",
        "colab": {
          "base_uri": "https://localhost:8080/"
        }
      },
      "source": [
        "df.shape"
      ],
      "execution_count": 10,
      "outputs": [
        {
          "output_type": "execute_result",
          "data": {
            "text/plain": [
              "(18584, 20)"
            ]
          },
          "metadata": {
            "tags": []
          },
          "execution_count": 10
        }
      ]
    },
    {
      "cell_type": "code",
      "metadata": {
        "id": "zWKfX49ylqKk"
      },
      "source": [
        "dep_var ='Burn Rate'"
      ],
      "execution_count": 11,
      "outputs": []
    },
    {
      "cell_type": "code",
      "metadata": {
        "id": "z_lVqgW_UfqI",
        "outputId": "e82695e4-e7d1-4092-92fd-f20f644b7e8c",
        "colab": {
          "base_uri": "https://localhost:8080/"
        }
      },
      "source": [
        "test = add_datepart(test, 'Date of Joining')"
      ],
      "execution_count": 12,
      "outputs": [
        {
          "output_type": "stream",
          "text": [
            "/usr/local/lib/python3.6/dist-packages/fastai/tabular/transform.py:63: FutureWarning: Series.dt.weekofyear and Series.dt.week have been deprecated.  Please use Series.dt.isocalendar().week instead.\n",
            "  for n in attr: df[prefix + n] = getattr(field.dt, n.lower())\n"
          ],
          "name": "stderr"
        }
      ]
    },
    {
      "cell_type": "code",
      "metadata": {
        "id": "hFm0I03ch3nz"
      },
      "source": [
        "procs = [Categorify,Normalize]"
      ],
      "execution_count": 13,
      "outputs": []
    },
    {
      "cell_type": "code",
      "metadata": {
        "id": "koWQK4QoimKN"
      },
      "source": [
        "cont,cat = cont_cat_split(df, 1, dep_var='Burn Rate')"
      ],
      "execution_count": 14,
      "outputs": []
    },
    {
      "cell_type": "code",
      "metadata": {
        "id": "4Fkrh_vpk2CS"
      },
      "source": [
        "cont_t,cat_t = cont_cat_split(test, 1)"
      ],
      "execution_count": 15,
      "outputs": []
    },
    {
      "cell_type": "code",
      "metadata": {
        "id": "Zz44Jtgth_Oi"
      },
      "source": [
        "path = \" \"\n",
        "start_indx = len(df) - int(len(df) * 0.2)\n",
        "\n",
        "#End index for creating a validation set from train_data\n",
        "end_indx = len(df)\n",
        "#TabularList for Validation\n",
        "val = (TabularList.from_df(df.iloc[start_indx:end_indx].copy(),\n",
        "                           path= path,cat_names=cat,\n",
        "                           cont_names = cont))\n",
        "test = (TabularList.from_df(test, path=path, cat_names=cat_t, cont_names=cont_t, procs=procs))"
      ],
      "execution_count": 16,
      "outputs": []
    },
    {
      "cell_type": "code",
      "metadata": {
        "id": "fYknE-HxkHrJ"
      },
      "source": [
        "data = (TabularList.from_df(\n",
        "    df,path=path,cat_names=cat, \n",
        "    cont_names=cont, \n",
        "    procs=procs).split_by_idx(list(range(start_indx,end_indx)))\n",
        "    .label_from_df(cols=dep_var)\n",
        "    .add_test(test)\n",
        "    .databunch())"
      ],
      "execution_count": 17,
      "outputs": []
    },
    {
      "cell_type": "code",
      "metadata": {
        "id": "LnZWNIReoHPO",
        "outputId": "950e1a2c-7d5f-4679-e84c-ded8fc5405e6",
        "colab": {
          "base_uri": "https://localhost:8080/",
          "height": 249
        }
      },
      "source": [
        "data.show_batch(rows=5)"
      ],
      "execution_count": 18,
      "outputs": [
        {
          "output_type": "display_data",
          "data": {
            "text/html": [
              "<table border=\"1\" class=\"dataframe\">\n",
              "  <thead>\n",
              "    <tr style=\"text-align: right;\">\n",
              "      <th>Gender</th>\n",
              "      <th>Company Type</th>\n",
              "      <th>WFH Setup Available</th>\n",
              "      <th>Date of JoiningYear</th>\n",
              "      <th>Date of JoiningIs_month_end</th>\n",
              "      <th>Date of JoiningIs_month_start</th>\n",
              "      <th>Date of JoiningIs_quarter_end</th>\n",
              "      <th>Date of JoiningIs_quarter_start</th>\n",
              "      <th>Date of JoiningIs_year_end</th>\n",
              "      <th>Date of JoiningIs_year_start</th>\n",
              "      <th>Designation</th>\n",
              "      <th>Resource Allocation</th>\n",
              "      <th>Mental Fatigue Score</th>\n",
              "      <th>Date of JoiningMonth</th>\n",
              "      <th>Date of JoiningWeek</th>\n",
              "      <th>Date of JoiningDay</th>\n",
              "      <th>Date of JoiningDayofweek</th>\n",
              "      <th>Date of JoiningDayofyear</th>\n",
              "      <th>Date of JoiningElapsed</th>\n",
              "      <th>target</th>\n",
              "    </tr>\n",
              "  </thead>\n",
              "  <tbody>\n",
              "    <tr>\n",
              "      <td>Female</td>\n",
              "      <td>Service</td>\n",
              "      <td>Yes</td>\n",
              "      <td>2008</td>\n",
              "      <td>False</td>\n",
              "      <td>False</td>\n",
              "      <td>False</td>\n",
              "      <td>False</td>\n",
              "      <td>False</td>\n",
              "      <td>False</td>\n",
              "      <td>-1.0397</td>\n",
              "      <td>-0.7257</td>\n",
              "      <td>0.0888</td>\n",
              "      <td>-0.7288</td>\n",
              "      <td>-0.8227</td>\n",
              "      <td>-1.3448</td>\n",
              "      <td>0.5137</td>\n",
              "      <td>-0.8382</td>\n",
              "      <td>-0.8382</td>\n",
              "      <td>0.42</td>\n",
              "    </tr>\n",
              "    <tr>\n",
              "      <td>Female</td>\n",
              "      <td>Service</td>\n",
              "      <td>Yes</td>\n",
              "      <td>2008</td>\n",
              "      <td>False</td>\n",
              "      <td>False</td>\n",
              "      <td>False</td>\n",
              "      <td>False</td>\n",
              "      <td>False</td>\n",
              "      <td>False</td>\n",
              "      <td>-0.1584</td>\n",
              "      <td>-0.7257</td>\n",
              "      <td>-0.4828</td>\n",
              "      <td>-0.1477</td>\n",
              "      <td>-0.1584</td>\n",
              "      <td>-0.7753</td>\n",
              "      <td>-1.4827</td>\n",
              "      <td>-0.2123</td>\n",
              "      <td>-0.2123</td>\n",
              "      <td>0.37</td>\n",
              "    </tr>\n",
              "    <tr>\n",
              "      <td>Male</td>\n",
              "      <td>Product</td>\n",
              "      <td>No</td>\n",
              "      <td>2008</td>\n",
              "      <td>False</td>\n",
              "      <td>False</td>\n",
              "      <td>False</td>\n",
              "      <td>False</td>\n",
              "      <td>False</td>\n",
              "      <td>False</td>\n",
              "      <td>1.6040</td>\n",
              "      <td>1.2259</td>\n",
              "      <td>1.2321</td>\n",
              "      <td>-0.4382</td>\n",
              "      <td>-0.4242</td>\n",
              "      <td>-0.2059</td>\n",
              "      <td>-0.4845</td>\n",
              "      <td>-0.4589</td>\n",
              "      <td>-0.4589</td>\n",
              "      <td>0.69</td>\n",
              "    </tr>\n",
              "    <tr>\n",
              "      <td>Male</td>\n",
              "      <td>Service</td>\n",
              "      <td>Yes</td>\n",
              "      <td>2008</td>\n",
              "      <td>False</td>\n",
              "      <td>False</td>\n",
              "      <td>False</td>\n",
              "      <td>False</td>\n",
              "      <td>False</td>\n",
              "      <td>False</td>\n",
              "      <td>-1.0397</td>\n",
              "      <td>-1.2136</td>\n",
              "      <td>-1.8340</td>\n",
              "      <td>1.5956</td>\n",
              "      <td>1.7015</td>\n",
              "      <td>1.3884</td>\n",
              "      <td>1.5119</td>\n",
              "      <td>1.7034</td>\n",
              "      <td>1.7034</td>\n",
              "      <td>0.14</td>\n",
              "    </tr>\n",
              "    <tr>\n",
              "      <td>Male</td>\n",
              "      <td>Service</td>\n",
              "      <td>Yes</td>\n",
              "      <td>2008</td>\n",
              "      <td>False</td>\n",
              "      <td>False</td>\n",
              "      <td>False</td>\n",
              "      <td>False</td>\n",
              "      <td>False</td>\n",
              "      <td>False</td>\n",
              "      <td>-0.1584</td>\n",
              "      <td>-0.7257</td>\n",
              "      <td>-1.0025</td>\n",
              "      <td>0.4334</td>\n",
              "      <td>0.5058</td>\n",
              "      <td>0.8190</td>\n",
              "      <td>1.0128</td>\n",
              "      <td>0.4990</td>\n",
              "      <td>0.4990</td>\n",
              "      <td>0.28</td>\n",
              "    </tr>\n",
              "  </tbody>\n",
              "</table>"
            ],
            "text/plain": [
              "<IPython.core.display.HTML object>"
            ]
          },
          "metadata": {
            "tags": []
          }
        }
      ]
    },
    {
      "cell_type": "code",
      "metadata": {
        "id": "TCpt_1JIpi1T"
      },
      "source": [
        "#Initializing the network\n",
        "learn = tabular_learner(data, layers=[1000,800,500,400,300,200, 100, 50], metrics= [r2_score])"
      ],
      "execution_count": 19,
      "outputs": []
    },
    {
      "cell_type": "code",
      "metadata": {
        "id": "k2BBSNJvptK-",
        "outputId": "afce3e18-51a9-4d61-f679-d71201aa97c0",
        "colab": {
          "base_uri": "https://localhost:8080/"
        }
      },
      "source": [
        "learn.summary"
      ],
      "execution_count": 20,
      "outputs": [
        {
          "output_type": "execute_result",
          "data": {
            "text/plain": [
              "<bound method model_summary of Learner(data=TabularDataBunch;\n",
              "\n",
              "Train: LabelList (14868 items)\n",
              "x: TabularList\n",
              "Gender Female; Company Type Service; WFH Setup Available No; Date of JoiningYear 2008; Date of JoiningIs_month_end True; Date of JoiningIs_month_start False; Date of JoiningIs_quarter_end True; Date of JoiningIs_quarter_start False; Date of JoiningIs_year_end False; Date of JoiningIs_year_start False; Designation -0.1584; Resource Allocation -0.7257; Mental Fatigue Score -1.0025; Date of JoiningMonth 0.7240; Date of JoiningWeek 0.9044; Date of JoiningDay 1.6162; Date of JoiningDayofweek -0.9836; Date of JoiningDayofyear 0.8594; Date of JoiningElapsed 0.8594; ,Gender Male; Company Type Service; WFH Setup Available Yes; Date of JoiningYear 2008; Date of JoiningIs_month_end True; Date of JoiningIs_month_start False; Date of JoiningIs_quarter_end False; Date of JoiningIs_quarter_start False; Date of JoiningIs_year_end False; Date of JoiningIs_year_start False; Designation -1.0397; Resource Allocation -1.2136; Mental Fatigue Score -0.3789; Date of JoiningMonth 1.3051; Date of JoiningWeek 1.4358; Date of JoiningDay 1.6162; Date of JoiningDayofweek 1.5119; Date of JoiningDayofyear 1.4379; Date of JoiningElapsed 1.4379; ,Gender Male; Company Type Service; WFH Setup Available Yes; Date of JoiningYear 2008; Date of JoiningIs_month_end False; Date of JoiningIs_month_start False; Date of JoiningIs_quarter_end False; Date of JoiningIs_quarter_start False; Date of JoiningIs_year_end False; Date of JoiningIs_year_start False; Designation -1.0397; Resource Allocation -1.7015; Mental Fatigue Score -1.6262; Date of JoiningMonth 1.3051; Date of JoiningWeek 1.2365; Date of JoiningDay -1.4586; Date of JoiningDayofweek -1.4827; Date of JoiningDayofyear 1.1818; Date of JoiningElapsed 1.1818; ,Gender Female; Company Type Service; WFH Setup Available No; Date of JoiningYear 2008; Date of JoiningIs_month_end False; Date of JoiningIs_month_start False; Date of JoiningIs_quarter_end False; Date of JoiningIs_quarter_start False; Date of JoiningIs_year_end False; Date of JoiningIs_year_start False; Designation 0.7228; Resource Allocation 1.2259; Mental Fatigue Score 0.6085; Date of JoiningMonth 0.1429; Date of JoiningWeek 0.2401; Date of JoiningDay 0.9329; Date of JoiningDayofweek 0.0146; Date of JoiningDayofyear 0.2145; Date of JoiningElapsed 0.2145; ,Gender Male; Company Type Product; WFH Setup Available Yes; Date of JoiningYear 2008; Date of JoiningIs_month_end False; Date of JoiningIs_month_start False; Date of JoiningIs_quarter_end False; Date of JoiningIs_quarter_start False; Date of JoiningIs_year_end False; Date of JoiningIs_year_start False; Designation -0.1584; Resource Allocation -0.2378; Mental Fatigue Score -1.1065; Date of JoiningMonth 1.3051; Date of JoiningWeek 1.4358; Date of JoiningDay 1.1607; Date of JoiningDayofweek -0.4845; Date of JoiningDayofyear 1.4000; Date of JoiningElapsed 1.4000; \n",
              "y: FloatList\n",
              "0.16,0.36,0.2,0.52,0.29\n",
              "Path:  ;\n",
              "\n",
              "Valid: LabelList (3716 items)\n",
              "x: TabularList\n",
              "Gender Female; Company Type Service; WFH Setup Available Yes; Date of JoiningYear 2008; Date of JoiningIs_month_end False; Date of JoiningIs_month_start False; Date of JoiningIs_quarter_end False; Date of JoiningIs_quarter_start False; Date of JoiningIs_year_end False; Date of JoiningIs_year_start False; Designation 0.7228; Resource Allocation 0.2501; Mental Fatigue Score -0.1191; Date of JoiningMonth -1.0193; Date of JoiningWeek -1.0220; Date of JoiningDay -0.6615; Date of JoiningDayofweek -1.4827; Date of JoiningDayofyear -1.0753; Date of JoiningElapsed -1.0753; ,Gender Male; Company Type Service; WFH Setup Available Yes; Date of JoiningYear 2008; Date of JoiningIs_month_end False; Date of JoiningIs_month_start False; Date of JoiningIs_quarter_end False; Date of JoiningIs_quarter_start False; Date of JoiningIs_year_end False; Date of JoiningIs_year_start False; Designation -1.0397; Resource Allocation -1.2136; Mental Fatigue Score -1.2104; Date of JoiningMonth -1.3098; Date of JoiningWeek -1.2877; Date of JoiningDay -0.5476; Date of JoiningDayofweek -1.4827; Date of JoiningDayofyear -1.3409; Date of JoiningElapsed -1.3409; ,Gender Female; Company Type Service; WFH Setup Available Yes; Date of JoiningYear 2008; Date of JoiningIs_month_end False; Date of JoiningIs_month_start False; Date of JoiningIs_quarter_end False; Date of JoiningIs_quarter_start False; Date of JoiningIs_year_end False; Date of JoiningIs_year_start False; Designation -1.9209; Resource Allocation -1.7015; Mental Fatigue Score -2.8214; Date of JoiningMonth 0.7240; Date of JoiningWeek 0.7051; Date of JoiningDay -0.6615; Date of JoiningDayofweek -0.4845; Date of JoiningDayofyear 0.6697; Date of JoiningElapsed 0.6697; ,Gender Female; Company Type Service; WFH Setup Available Yes; Date of JoiningYear 2008; Date of JoiningIs_month_end False; Date of JoiningIs_month_start False; Date of JoiningIs_quarter_end False; Date of JoiningIs_quarter_start False; Date of JoiningIs_year_end False; Date of JoiningIs_year_start False; Designation 0.7228; Resource Allocation 0.7380; Mental Fatigue Score 0.5046; Date of JoiningMonth 0.7240; Date of JoiningWeek 0.7715; Date of JoiningDay -0.0920; Date of JoiningDayofweek -1.4827; Date of JoiningDayofyear 0.7171; Date of JoiningElapsed 0.7171; ,Gender Male; Company Type Product; WFH Setup Available No; Date of JoiningYear 2008; Date of JoiningIs_month_end False; Date of JoiningIs_month_start False; Date of JoiningIs_quarter_end False; Date of JoiningIs_quarter_start False; Date of JoiningIs_year_end False; Date of JoiningIs_year_start False; Designation -0.1584; Resource Allocation 0.7380; Mental Fatigue Score 0.3487; Date of JoiningMonth 1.0145; Date of JoiningWeek 1.0373; Date of JoiningDay 0.1357; Date of JoiningDayofweek 0.5137; Date of JoiningDayofyear 1.0206; Date of JoiningElapsed 1.0206; \n",
              "y: FloatList\n",
              "0.38,0.24,0.04,0.44,0.6\n",
              "Path:  ;\n",
              "\n",
              "Test: LabelList (12250 items)\n",
              "x: TabularList\n",
              "Gender Female; Company Type Service; WFH Setup Available No; Date of JoiningYear 2008; Date of JoiningIs_month_end False; Date of JoiningIs_month_start False; Date of JoiningIs_quarter_end False; Date of JoiningIs_quarter_start False; Date of JoiningIs_year_end False; Date of JoiningIs_year_start False; Designation -0.1584; Resource Allocation 0.2501; Mental Fatigue Score 1.0243; Date of JoiningMonth 1.5956; Date of JoiningWeek 1.5687; Date of JoiningDay -0.6615; Date of JoiningDayofweek -0.4845; Date of JoiningDayofyear 1.5327; Date of JoiningElapsed 1.5327; ,Gender Female; Company Type Product; WFH Setup Available Yes; Date of JoiningYear 2008; Date of JoiningIs_month_end False; Date of JoiningIs_month_start False; Date of JoiningIs_quarter_end False; Date of JoiningIs_quarter_start False; Date of JoiningIs_year_end False; Date of JoiningIs_year_start False; Designation -1.0397; Resource Allocation -1.2136; Mental Fatigue Score -0.2750; Date of JoiningMonth 0.4334; Date of JoiningWeek 0.4394; Date of JoiningDay -0.2059; Date of JoiningDayofweek 0.0146; Date of JoiningDayofyear 0.4136; Date of JoiningElapsed 0.4136; ,Gender Male; Company Type Product; WFH Setup Available Yes; Date of JoiningYear 2008; Date of JoiningIs_month_end False; Date of JoiningIs_month_start False; Date of JoiningIs_quarter_end False; Date of JoiningIs_quarter_start False; Date of JoiningIs_year_end False; Date of JoiningIs_year_start False; Designation -1.0397; Resource Allocation -0.7257; Mental Fatigue Score 0.0888; Date of JoiningMonth 1.3051; Date of JoiningWeek 1.3030; Date of JoiningDay -0.3198; Date of JoiningDayofweek 0.0146; Date of JoiningDayofyear 1.2767; Date of JoiningElapsed 1.2767; ,Gender Female; Company Type Service; WFH Setup Available No; Date of JoiningYear 2008; Date of JoiningIs_month_end False; Date of JoiningIs_month_start False; Date of JoiningIs_quarter_end False; Date of JoiningIs_quarter_start False; Date of JoiningIs_year_end False; Date of JoiningIs_year_start False; Designation 0.7228; Resource Allocation 0.7380; Mental Fatigue Score -0.5868; Date of JoiningMonth -1.3098; Date of JoiningWeek -1.3541; Date of JoiningDay -1.0031; Date of JoiningDayofweek 0.0146; Date of JoiningDayofyear -1.3788; Date of JoiningElapsed -1.3788; ,Gender Female; Company Type Product; WFH Setup Available No; Date of JoiningYear 2008; Date of JoiningIs_month_end False; Date of JoiningIs_month_start False; Date of JoiningIs_quarter_end False; Date of JoiningIs_quarter_start False; Date of JoiningIs_year_end False; Date of JoiningIs_year_start False; Designation -0.1584; Resource Allocation 0.2501; Mental Fatigue Score 0.3487; Date of JoiningMonth 0.1429; Date of JoiningWeek 0.1737; Date of JoiningDay 0.1357; Date of JoiningDayofweek 0.0146; Date of JoiningDayofyear 0.1481; Date of JoiningElapsed 0.1481; \n",
              "y: EmptyLabelList\n",
              ",,,,\n",
              "Path:  , model=TabularModel(\n",
              "  (embeds): ModuleList(\n",
              "    (0): Embedding(3, 3)\n",
              "    (1): Embedding(3, 3)\n",
              "    (2): Embedding(3, 3)\n",
              "    (3): Embedding(2, 2)\n",
              "    (4): Embedding(3, 3)\n",
              "    (5): Embedding(3, 3)\n",
              "    (6): Embedding(3, 3)\n",
              "    (7): Embedding(3, 3)\n",
              "    (8): Embedding(3, 3)\n",
              "    (9): Embedding(3, 3)\n",
              "  )\n",
              "  (emb_drop): Dropout(p=0.0, inplace=False)\n",
              "  (bn_cont): BatchNorm1d(9, eps=1e-05, momentum=0.1, affine=True, track_running_stats=True)\n",
              "  (layers): Sequential(\n",
              "    (0): Linear(in_features=38, out_features=1000, bias=True)\n",
              "    (1): ReLU(inplace=True)\n",
              "    (2): BatchNorm1d(1000, eps=1e-05, momentum=0.1, affine=True, track_running_stats=True)\n",
              "    (3): Linear(in_features=1000, out_features=800, bias=True)\n",
              "    (4): ReLU(inplace=True)\n",
              "    (5): BatchNorm1d(800, eps=1e-05, momentum=0.1, affine=True, track_running_stats=True)\n",
              "    (6): Linear(in_features=800, out_features=500, bias=True)\n",
              "    (7): ReLU(inplace=True)\n",
              "    (8): BatchNorm1d(500, eps=1e-05, momentum=0.1, affine=True, track_running_stats=True)\n",
              "    (9): Linear(in_features=500, out_features=400, bias=True)\n",
              "    (10): ReLU(inplace=True)\n",
              "    (11): BatchNorm1d(400, eps=1e-05, momentum=0.1, affine=True, track_running_stats=True)\n",
              "    (12): Linear(in_features=400, out_features=300, bias=True)\n",
              "    (13): ReLU(inplace=True)\n",
              "    (14): BatchNorm1d(300, eps=1e-05, momentum=0.1, affine=True, track_running_stats=True)\n",
              "    (15): Linear(in_features=300, out_features=200, bias=True)\n",
              "    (16): ReLU(inplace=True)\n",
              "    (17): BatchNorm1d(200, eps=1e-05, momentum=0.1, affine=True, track_running_stats=True)\n",
              "    (18): Linear(in_features=200, out_features=100, bias=True)\n",
              "    (19): ReLU(inplace=True)\n",
              "    (20): BatchNorm1d(100, eps=1e-05, momentum=0.1, affine=True, track_running_stats=True)\n",
              "    (21): Linear(in_features=100, out_features=50, bias=True)\n",
              "    (22): ReLU(inplace=True)\n",
              "    (23): BatchNorm1d(50, eps=1e-05, momentum=0.1, affine=True, track_running_stats=True)\n",
              "    (24): Linear(in_features=50, out_features=1, bias=True)\n",
              "  )\n",
              "), opt_func=functools.partial(<class 'torch.optim.adam.Adam'>, betas=(0.9, 0.99)), loss_func=FlattenedLoss of MSELoss(), metrics=[<function r2_score at 0x7f76e343e158>], true_wd=True, bn_wd=True, wd=0.01, train_bn=True, path=PosixPath(' '), model_dir='models', callback_fns=[functools.partial(<class 'fastai.basic_train.Recorder'>, add_time=True, silent=False)], callbacks=[], layer_groups=[Sequential(\n",
              "  (0): Embedding(3, 3)\n",
              "  (1): Embedding(3, 3)\n",
              "  (2): Embedding(3, 3)\n",
              "  (3): Embedding(2, 2)\n",
              "  (4): Embedding(3, 3)\n",
              "  (5): Embedding(3, 3)\n",
              "  (6): Embedding(3, 3)\n",
              "  (7): Embedding(3, 3)\n",
              "  (8): Embedding(3, 3)\n",
              "  (9): Embedding(3, 3)\n",
              "  (10): Dropout(p=0.0, inplace=False)\n",
              "  (11): BatchNorm1d(9, eps=1e-05, momentum=0.1, affine=True, track_running_stats=True)\n",
              "  (12): Linear(in_features=38, out_features=1000, bias=True)\n",
              "  (13): ReLU(inplace=True)\n",
              "  (14): BatchNorm1d(1000, eps=1e-05, momentum=0.1, affine=True, track_running_stats=True)\n",
              "  (15): Linear(in_features=1000, out_features=800, bias=True)\n",
              "  (16): ReLU(inplace=True)\n",
              "  (17): BatchNorm1d(800, eps=1e-05, momentum=0.1, affine=True, track_running_stats=True)\n",
              "  (18): Linear(in_features=800, out_features=500, bias=True)\n",
              "  (19): ReLU(inplace=True)\n",
              "  (20): BatchNorm1d(500, eps=1e-05, momentum=0.1, affine=True, track_running_stats=True)\n",
              "  (21): Linear(in_features=500, out_features=400, bias=True)\n",
              "  (22): ReLU(inplace=True)\n",
              "  (23): BatchNorm1d(400, eps=1e-05, momentum=0.1, affine=True, track_running_stats=True)\n",
              "  (24): Linear(in_features=400, out_features=300, bias=True)\n",
              "  (25): ReLU(inplace=True)\n",
              "  (26): BatchNorm1d(300, eps=1e-05, momentum=0.1, affine=True, track_running_stats=True)\n",
              "  (27): Linear(in_features=300, out_features=200, bias=True)\n",
              "  (28): ReLU(inplace=True)\n",
              "  (29): BatchNorm1d(200, eps=1e-05, momentum=0.1, affine=True, track_running_stats=True)\n",
              "  (30): Linear(in_features=200, out_features=100, bias=True)\n",
              "  (31): ReLU(inplace=True)\n",
              "  (32): BatchNorm1d(100, eps=1e-05, momentum=0.1, affine=True, track_running_stats=True)\n",
              "  (33): Linear(in_features=100, out_features=50, bias=True)\n",
              "  (34): ReLU(inplace=True)\n",
              "  (35): BatchNorm1d(50, eps=1e-05, momentum=0.1, affine=True, track_running_stats=True)\n",
              "  (36): Linear(in_features=50, out_features=1, bias=True)\n",
              ")], add_time=True, silent=False)>"
            ]
          },
          "metadata": {
            "tags": []
          },
          "execution_count": 20
        }
      ]
    },
    {
      "cell_type": "code",
      "metadata": {
        "id": "Pmekp54KpwJO",
        "outputId": "05af8c6c-c6b0-4e44-b394-71268a450c0a",
        "colab": {
          "base_uri": "https://localhost:8080/",
          "height": 373
        }
      },
      "source": [
        "learn.lr_find(start_lr = 1e-05,end_lr = 1e+05, num_it = 100)\n",
        "learn.recorder.plot()"
      ],
      "execution_count": 21,
      "outputs": [
        {
          "output_type": "display_data",
          "data": {
            "text/html": [
              "\n",
              "    <div>\n",
              "        <style>\n",
              "            /* Turns off some styling */\n",
              "            progress {\n",
              "                /* gets rid of default border in Firefox and Opera. */\n",
              "                border: none;\n",
              "                /* Needs to be in here for Safari polyfill so background images work as expected. */\n",
              "                background-size: auto;\n",
              "            }\n",
              "            .progress-bar-interrupted, .progress-bar-interrupted::-webkit-progress-bar {\n",
              "                background: #F44336;\n",
              "            }\n",
              "        </style>\n",
              "      <progress value='0' class='' max='1' style='width:300px; height:20px; vertical-align: middle;'></progress>\n",
              "      0.00% [0/1 00:00<00:00]\n",
              "    </div>\n",
              "    \n",
              "<table border=\"1\" class=\"dataframe\">\n",
              "  <thead>\n",
              "    <tr style=\"text-align: left;\">\n",
              "      <th>epoch</th>\n",
              "      <th>train_loss</th>\n",
              "      <th>valid_loss</th>\n",
              "      <th>r2_score</th>\n",
              "      <th>time</th>\n",
              "    </tr>\n",
              "  </thead>\n",
              "  <tbody>\n",
              "  </tbody>\n",
              "</table><p>\n",
              "\n",
              "    <div>\n",
              "        <style>\n",
              "            /* Turns off some styling */\n",
              "            progress {\n",
              "                /* gets rid of default border in Firefox and Opera. */\n",
              "                border: none;\n",
              "                /* Needs to be in here for Safari polyfill so background images work as expected. */\n",
              "                background-size: auto;\n",
              "            }\n",
              "            .progress-bar-interrupted, .progress-bar-interrupted::-webkit-progress-bar {\n",
              "                background: #F44336;\n",
              "            }\n",
              "        </style>\n",
              "      <progress value='46' class='' max='232' style='width:300px; height:20px; vertical-align: middle;'></progress>\n",
              "      19.83% [46/232 00:00<00:03 0.2415]\n",
              "    </div>\n",
              "    "
            ],
            "text/plain": [
              "<IPython.core.display.HTML object>"
            ]
          },
          "metadata": {
            "tags": []
          }
        },
        {
          "output_type": "stream",
          "text": [
            "LR Finder is complete, type {learner_name}.recorder.plot() to see the graph.\n"
          ],
          "name": "stdout"
        },
        {
          "output_type": "display_data",
          "data": {
            "image/png": "[encoded data removed]",
            "text/plain": [
              "<Figure size 432x288 with 1 Axes>"
            ]
          },
          "metadata": {
            "tags": [],
            "needs_background": "light"
          }
        }
      ]
    },
    {
      "cell_type": "code",
      "metadata": {
        "id": "poLd54OOpzzR",
        "outputId": "a32bead9-0287-4058-88dc-29fa8bafb9da",
        "colab": {
          "base_uri": "https://localhost:8080/",
          "height": 343
        }
      },
      "source": [
        "learn.fit_one_cycle(10,1e-02)"
      ],
      "execution_count": 22,
      "outputs": [
        {
          "output_type": "display_data",
          "data": {
            "text/html": [
              "<table border=\"1\" class=\"dataframe\">\n",
              "  <thead>\n",
              "    <tr style=\"text-align: left;\">\n",
              "      <th>epoch</th>\n",
              "      <th>train_loss</th>\n",
              "      <th>valid_loss</th>\n",
              "      <th>r2_score</th>\n",
              "      <th>time</th>\n",
              "    </tr>\n",
              "  </thead>\n",
              "  <tbody>\n",
              "    <tr>\n",
              "      <td>0</td>\n",
              "      <td>0.016193</td>\n",
              "      <td>0.006517</td>\n",
              "      <td>0.813372</td>\n",
              "      <td>00:04</td>\n",
              "    </tr>\n",
              "    <tr>\n",
              "      <td>1</td>\n",
              "      <td>0.006905</td>\n",
              "      <td>0.003976</td>\n",
              "      <td>0.888962</td>\n",
              "      <td>00:04</td>\n",
              "    </tr>\n",
              "    <tr>\n",
              "      <td>2</td>\n",
              "      <td>0.006971</td>\n",
              "      <td>0.007130</td>\n",
              "      <td>0.803265</td>\n",
              "      <td>00:04</td>\n",
              "    </tr>\n",
              "    <tr>\n",
              "      <td>3</td>\n",
              "      <td>0.005889</td>\n",
              "      <td>0.007472</td>\n",
              "      <td>0.791238</td>\n",
              "      <td>00:04</td>\n",
              "    </tr>\n",
              "    <tr>\n",
              "      <td>4</td>\n",
              "      <td>0.005593</td>\n",
              "      <td>0.004331</td>\n",
              "      <td>0.878107</td>\n",
              "      <td>00:04</td>\n",
              "    </tr>\n",
              "    <tr>\n",
              "      <td>5</td>\n",
              "      <td>0.004682</td>\n",
              "      <td>0.003211</td>\n",
              "      <td>0.910188</td>\n",
              "      <td>00:04</td>\n",
              "    </tr>\n",
              "    <tr>\n",
              "      <td>6</td>\n",
              "      <td>0.004490</td>\n",
              "      <td>0.003430</td>\n",
              "      <td>0.905355</td>\n",
              "      <td>00:04</td>\n",
              "    </tr>\n",
              "    <tr>\n",
              "      <td>7</td>\n",
              "      <td>0.004396</td>\n",
              "      <td>0.004234</td>\n",
              "      <td>0.882843</td>\n",
              "      <td>00:04</td>\n",
              "    </tr>\n",
              "    <tr>\n",
              "      <td>8</td>\n",
              "      <td>0.003963</td>\n",
              "      <td>0.003119</td>\n",
              "      <td>0.914343</td>\n",
              "      <td>00:04</td>\n",
              "    </tr>\n",
              "    <tr>\n",
              "      <td>9</td>\n",
              "      <td>0.003875</td>\n",
              "      <td>0.003012</td>\n",
              "      <td>0.917567</td>\n",
              "      <td>00:04</td>\n",
              "    </tr>\n",
              "  </tbody>\n",
              "</table>"
            ],
            "text/plain": [
              "<IPython.core.display.HTML object>"
            ]
          },
          "metadata": {
            "tags": []
          }
        }
      ]
    },
    {
      "cell_type": "code",
      "metadata": {
        "id": "YM3jpuJ-p54n",
        "outputId": "b8fb4723-bbf1-4a99-cd46-f0d0181d714f",
        "colab": {
          "base_uri": "https://localhost:8080/",
          "height": 373
        }
      },
      "source": [
        "learn.lr_find()\n",
        "learn.recorder.plot()"
      ],
      "execution_count": 23,
      "outputs": [
        {
          "output_type": "display_data",
          "data": {
            "text/html": [
              "\n",
              "    <div>\n",
              "        <style>\n",
              "            /* Turns off some styling */\n",
              "            progress {\n",
              "                /* gets rid of default border in Firefox and Opera. */\n",
              "                border: none;\n",
              "                /* Needs to be in here for Safari polyfill so background images work as expected. */\n",
              "                background-size: auto;\n",
              "            }\n",
              "            .progress-bar-interrupted, .progress-bar-interrupted::-webkit-progress-bar {\n",
              "                background: #F44336;\n",
              "            }\n",
              "        </style>\n",
              "      <progress value='0' class='' max='1' style='width:300px; height:20px; vertical-align: middle;'></progress>\n",
              "      0.00% [0/1 00:00<00:00]\n",
              "    </div>\n",
              "    \n",
              "<table border=\"1\" class=\"dataframe\">\n",
              "  <thead>\n",
              "    <tr style=\"text-align: left;\">\n",
              "      <th>epoch</th>\n",
              "      <th>train_loss</th>\n",
              "      <th>valid_loss</th>\n",
              "      <th>r2_score</th>\n",
              "      <th>time</th>\n",
              "    </tr>\n",
              "  </thead>\n",
              "  <tbody>\n",
              "  </tbody>\n",
              "</table><p>\n",
              "\n",
              "    <div>\n",
              "        <style>\n",
              "            /* Turns off some styling */\n",
              "            progress {\n",
              "                /* gets rid of default border in Firefox and Opera. */\n",
              "                border: none;\n",
              "                /* Needs to be in here for Safari polyfill so background images work as expected. */\n",
              "                background-size: auto;\n",
              "            }\n",
              "            .progress-bar-interrupted, .progress-bar-interrupted::-webkit-progress-bar {\n",
              "                background: #F44336;\n",
              "            }\n",
              "        </style>\n",
              "      <progress value='74' class='' max='232' style='width:300px; height:20px; vertical-align: middle;'></progress>\n",
              "      31.90% [74/232 00:01<00:02 0.0051]\n",
              "    </div>\n",
              "    "
            ],
            "text/plain": [
              "<IPython.core.display.HTML object>"
            ]
          },
          "metadata": {
            "tags": []
          }
        },
        {
          "output_type": "stream",
          "text": [
            "LR Finder is complete, type {learner_name}.recorder.plot() to see the graph.\n"
          ],
          "name": "stdout"
        },
        {
          "output_type": "display_data",
          "data": {
            "image/png": "[encoded data removed]",
            "text/plain": [
              "<Figure size 432x288 with 1 Axes>"
            ]
          },
          "metadata": {
            "tags": [],
            "needs_background": "light"
          }
        }
      ]
    },
    {
      "cell_type": "code",
      "metadata": {
        "id": "U4AxyBHEqPDI",
        "outputId": "8726f45e-0fc0-43a5-f2e7-08d73e681aa2",
        "colab": {
          "base_uri": "https://localhost:8080/",
          "height": 343
        }
      },
      "source": [
        "learn.fit_one_cycle(10, 1e-05)"
      ],
      "execution_count": 24,
      "outputs": [
        {
          "output_type": "display_data",
          "data": {
            "text/html": [
              "<table border=\"1\" class=\"dataframe\">\n",
              "  <thead>\n",
              "    <tr style=\"text-align: left;\">\n",
              "      <th>epoch</th>\n",
              "      <th>train_loss</th>\n",
              "      <th>valid_loss</th>\n",
              "      <th>r2_score</th>\n",
              "      <th>time</th>\n",
              "    </tr>\n",
              "  </thead>\n",
              "  <tbody>\n",
              "    <tr>\n",
              "      <td>0</td>\n",
              "      <td>0.003855</td>\n",
              "      <td>0.003076</td>\n",
              "      <td>0.915369</td>\n",
              "      <td>00:04</td>\n",
              "    </tr>\n",
              "    <tr>\n",
              "      <td>1</td>\n",
              "      <td>0.003918</td>\n",
              "      <td>0.002934</td>\n",
              "      <td>0.919127</td>\n",
              "      <td>00:04</td>\n",
              "    </tr>\n",
              "    <tr>\n",
              "      <td>2</td>\n",
              "      <td>0.004009</td>\n",
              "      <td>0.002998</td>\n",
              "      <td>0.917179</td>\n",
              "      <td>00:04</td>\n",
              "    </tr>\n",
              "    <tr>\n",
              "      <td>3</td>\n",
              "      <td>0.003740</td>\n",
              "      <td>0.003011</td>\n",
              "      <td>0.917536</td>\n",
              "      <td>00:04</td>\n",
              "    </tr>\n",
              "    <tr>\n",
              "      <td>4</td>\n",
              "      <td>0.003842</td>\n",
              "      <td>0.002989</td>\n",
              "      <td>0.917564</td>\n",
              "      <td>00:04</td>\n",
              "    </tr>\n",
              "    <tr>\n",
              "      <td>5</td>\n",
              "      <td>0.003907</td>\n",
              "      <td>0.002941</td>\n",
              "      <td>0.919166</td>\n",
              "      <td>00:04</td>\n",
              "    </tr>\n",
              "    <tr>\n",
              "      <td>6</td>\n",
              "      <td>0.003723</td>\n",
              "      <td>0.002959</td>\n",
              "      <td>0.918900</td>\n",
              "      <td>00:04</td>\n",
              "    </tr>\n",
              "    <tr>\n",
              "      <td>7</td>\n",
              "      <td>0.003890</td>\n",
              "      <td>0.003078</td>\n",
              "      <td>0.915462</td>\n",
              "      <td>00:04</td>\n",
              "    </tr>\n",
              "    <tr>\n",
              "      <td>8</td>\n",
              "      <td>0.003914</td>\n",
              "      <td>0.003045</td>\n",
              "      <td>0.916341</td>\n",
              "      <td>00:04</td>\n",
              "    </tr>\n",
              "    <tr>\n",
              "      <td>9</td>\n",
              "      <td>0.003755</td>\n",
              "      <td>0.003174</td>\n",
              "      <td>0.913102</td>\n",
              "      <td>00:04</td>\n",
              "    </tr>\n",
              "  </tbody>\n",
              "</table>"
            ],
            "text/plain": [
              "<IPython.core.display.HTML object>"
            ]
          },
          "metadata": {
            "tags": []
          }
        }
      ]
    },
    {
      "cell_type": "code",
      "metadata": {
        "id": "-AAMt98yqO9X",
        "outputId": "7af081b1-cb18-460f-f723-430eca477253",
        "colab": {
          "base_uri": "https://localhost:8080/",
          "height": 249
        }
      },
      "source": [
        "learn.show_results(ds_type=DatasetType.Valid)"
      ],
      "execution_count": 25,
      "outputs": [
        {
          "output_type": "display_data",
          "data": {
            "text/html": [
              "<table border=\"1\" class=\"dataframe\">\n",
              "  <thead>\n",
              "    <tr style=\"text-align: right;\">\n",
              "      <th>Gender</th>\n",
              "      <th>Company Type</th>\n",
              "      <th>WFH Setup Available</th>\n",
              "      <th>Date of JoiningYear</th>\n",
              "      <th>Date of JoiningIs_month_end</th>\n",
              "      <th>Date of JoiningIs_month_start</th>\n",
              "      <th>Date of JoiningIs_quarter_end</th>\n",
              "      <th>Date of JoiningIs_quarter_start</th>\n",
              "      <th>Date of JoiningIs_year_end</th>\n",
              "      <th>Date of JoiningIs_year_start</th>\n",
              "      <th>Designation</th>\n",
              "      <th>Resource Allocation</th>\n",
              "      <th>Mental Fatigue Score</th>\n",
              "      <th>Date of JoiningMonth</th>\n",
              "      <th>Date of JoiningWeek</th>\n",
              "      <th>Date of JoiningDay</th>\n",
              "      <th>Date of JoiningDayofweek</th>\n",
              "      <th>Date of JoiningDayofyear</th>\n",
              "      <th>Date of JoiningElapsed</th>\n",
              "      <th>target</th>\n",
              "      <th>prediction</th>\n",
              "    </tr>\n",
              "  </thead>\n",
              "  <tbody>\n",
              "    <tr>\n",
              "      <td>Female</td>\n",
              "      <td>Service</td>\n",
              "      <td>Yes</td>\n",
              "      <td>2008</td>\n",
              "      <td>False</td>\n",
              "      <td>False</td>\n",
              "      <td>False</td>\n",
              "      <td>False</td>\n",
              "      <td>False</td>\n",
              "      <td>False</td>\n",
              "      <td>0.7228</td>\n",
              "      <td>0.2501</td>\n",
              "      <td>-0.1191</td>\n",
              "      <td>-1.0193</td>\n",
              "      <td>-1.0220</td>\n",
              "      <td>-0.6615</td>\n",
              "      <td>-1.4827</td>\n",
              "      <td>-1.0753</td>\n",
              "      <td>-1.0753</td>\n",
              "      <td>0.38</td>\n",
              "      <td>[0.429974]</td>\n",
              "    </tr>\n",
              "    <tr>\n",
              "      <td>Male</td>\n",
              "      <td>Service</td>\n",
              "      <td>Yes</td>\n",
              "      <td>2008</td>\n",
              "      <td>False</td>\n",
              "      <td>False</td>\n",
              "      <td>False</td>\n",
              "      <td>False</td>\n",
              "      <td>False</td>\n",
              "      <td>False</td>\n",
              "      <td>-1.0397</td>\n",
              "      <td>-1.2136</td>\n",
              "      <td>-1.2104</td>\n",
              "      <td>-1.3098</td>\n",
              "      <td>-1.2877</td>\n",
              "      <td>-0.5476</td>\n",
              "      <td>-1.4827</td>\n",
              "      <td>-1.3409</td>\n",
              "      <td>-1.3409</td>\n",
              "      <td>0.24</td>\n",
              "      <td>[0.238126]</td>\n",
              "    </tr>\n",
              "    <tr>\n",
              "      <td>Female</td>\n",
              "      <td>Service</td>\n",
              "      <td>Yes</td>\n",
              "      <td>2008</td>\n",
              "      <td>False</td>\n",
              "      <td>False</td>\n",
              "      <td>False</td>\n",
              "      <td>False</td>\n",
              "      <td>False</td>\n",
              "      <td>False</td>\n",
              "      <td>-1.9209</td>\n",
              "      <td>-1.7015</td>\n",
              "      <td>-2.8214</td>\n",
              "      <td>0.7240</td>\n",
              "      <td>0.7051</td>\n",
              "      <td>-0.6615</td>\n",
              "      <td>-0.4845</td>\n",
              "      <td>0.6697</td>\n",
              "      <td>0.6697</td>\n",
              "      <td>0.04</td>\n",
              "      <td>[0.058021]</td>\n",
              "    </tr>\n",
              "    <tr>\n",
              "      <td>Female</td>\n",
              "      <td>Service</td>\n",
              "      <td>Yes</td>\n",
              "      <td>2008</td>\n",
              "      <td>False</td>\n",
              "      <td>False</td>\n",
              "      <td>False</td>\n",
              "      <td>False</td>\n",
              "      <td>False</td>\n",
              "      <td>False</td>\n",
              "      <td>0.7228</td>\n",
              "      <td>0.7380</td>\n",
              "      <td>0.5046</td>\n",
              "      <td>0.7240</td>\n",
              "      <td>0.7715</td>\n",
              "      <td>-0.0920</td>\n",
              "      <td>-1.4827</td>\n",
              "      <td>0.7171</td>\n",
              "      <td>0.7171</td>\n",
              "      <td>0.44</td>\n",
              "      <td>[0.55032]</td>\n",
              "    </tr>\n",
              "    <tr>\n",
              "      <td>Male</td>\n",
              "      <td>Product</td>\n",
              "      <td>No</td>\n",
              "      <td>2008</td>\n",
              "      <td>False</td>\n",
              "      <td>False</td>\n",
              "      <td>False</td>\n",
              "      <td>False</td>\n",
              "      <td>False</td>\n",
              "      <td>False</td>\n",
              "      <td>-0.1584</td>\n",
              "      <td>0.7380</td>\n",
              "      <td>0.3487</td>\n",
              "      <td>1.0145</td>\n",
              "      <td>1.0373</td>\n",
              "      <td>0.1357</td>\n",
              "      <td>0.5137</td>\n",
              "      <td>1.0206</td>\n",
              "      <td>1.0206</td>\n",
              "      <td>0.6</td>\n",
              "      <td>[0.552395]</td>\n",
              "    </tr>\n",
              "  </tbody>\n",
              "</table>"
            ],
            "text/plain": [
              "<IPython.core.display.HTML object>"
            ]
          },
          "metadata": {
            "tags": []
          }
        }
      ]
    },
    {
      "cell_type": "code",
      "metadata": {
        "id": "AWP2p9Pnrcsy"
      },
      "source": [
        "test = pd.read_csv(\"/content/test.csv\")\n",
        "submit = pd.DataFrame()\n",
        "submit['Employee ID'] = test['Employee ID']"
      ],
      "execution_count": 26,
      "outputs": []
    },
    {
      "cell_type": "code",
      "metadata": {
        "id": "K90PBEQEr2kM",
        "outputId": "e2ced45e-f577-491b-b683-d115f9d4785b",
        "colab": {
          "base_uri": "https://localhost:8080/",
          "height": 17
        }
      },
      "source": [
        "test_predictions = learn.get_preds(ds_type=DatasetType.Test)[0]"
      ],
      "execution_count": 27,
      "outputs": [
        {
          "output_type": "display_data",
          "data": {
            "text/html": [
              ""
            ],
            "text/plain": [
              "<IPython.core.display.HTML object>"
            ]
          },
          "metadata": {
            "tags": []
          }
        }
      ]
    },
    {
      "cell_type": "code",
      "metadata": {
        "id": "Hjf9HWiksKeO"
      },
      "source": [
        "test_predictions = [i[0] for i in test_predictions.tolist()]"
      ],
      "execution_count": 28,
      "outputs": []
    },
    {
      "cell_type": "code",
      "metadata": {
        "id": "8RawYpylsPHJ"
      },
      "source": [
        "submit['Burn Rate'] = test_predictions"
      ],
      "execution_count": 29,
      "outputs": []
    },
    {
      "cell_type": "code",
      "metadata": {
        "id": "8lVz8mLSsi6z",
        "outputId": "2126d0b6-b3b7-48cd-a6cd-bc40bbc414e0",
        "colab": {
          "base_uri": "https://localhost:8080/",
          "height": 195
        }
      },
      "source": [
        "submit.head()"
      ],
      "execution_count": 30,
      "outputs": [
        {
          "output_type": "execute_result",
          "data": {
            "text/html": [
              "<div>\n",
              "<style scoped>\n",
              "    .dataframe tbody tr th:only-of-type {\n",
              "        vertical-align: middle;\n",
              "    }\n",
              "\n",
              "    .dataframe tbody tr th {\n",
              "        vertical-align: top;\n",
              "    }\n",
              "\n",
              "    .dataframe thead th {\n",
              "        text-align: right;\n",
              "    }\n",
              "</style>\n",
              "<table border=\"1\" class=\"dataframe\">\n",
              "  <thead>\n",
              "    <tr style=\"text-align: right;\">\n",
              "      <th></th>\n",
              "      <th>Employee ID</th>\n",
              "      <th>Burn Rate</th>\n",
              "    </tr>\n",
              "  </thead>\n",
              "  <tbody>\n",
              "    <tr>\n",
              "      <th>0</th>\n",
              "      <td>fffe31003300390039003000</td>\n",
              "      <td>0.603946</td>\n",
              "    </tr>\n",
              "    <tr>\n",
              "      <th>1</th>\n",
              "      <td>fffe31003300310037003800</td>\n",
              "      <td>0.352708</td>\n",
              "    </tr>\n",
              "    <tr>\n",
              "      <th>2</th>\n",
              "      <td>fffe33003400380035003900</td>\n",
              "      <td>0.427724</td>\n",
              "    </tr>\n",
              "    <tr>\n",
              "      <th>3</th>\n",
              "      <td>fffe3100370039003200</td>\n",
              "      <td>0.386192</td>\n",
              "    </tr>\n",
              "    <tr>\n",
              "      <th>4</th>\n",
              "      <td>fffe32003600390036003700</td>\n",
              "      <td>0.513574</td>\n",
              "    </tr>\n",
              "  </tbody>\n",
              "</table>\n",
              "</div>"
            ],
            "text/plain": [
              "                Employee ID  Burn Rate\n",
              "0  fffe31003300390039003000   0.603946\n",
              "1  fffe31003300310037003800   0.352708\n",
              "2  fffe33003400380035003900   0.427724\n",
              "3      fffe3100370039003200   0.386192\n",
              "4  fffe32003600390036003700   0.513574"
            ]
          },
          "metadata": {
            "tags": []
          },
          "execution_count": 30
        }
      ]
    },
    {
      "cell_type": "code",
      "metadata": {
        "id": "B51ag3u7sruk"
      },
      "source": [
        "submit.to_csv('submit.csv',index=False)"
      ],
      "execution_count": 31,
      "outputs": []
    },
    {
      "cell_type": "code",
      "metadata": {
        "id": "S0YOMvx7s07f"
      },
      "source": [
        ""
      ],
      "execution_count": 31,
      "outputs": []
    }
  ]
}