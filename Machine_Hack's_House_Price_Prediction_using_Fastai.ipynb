{
  "nbformat": 4,
  "nbformat_minor": 0,
  "metadata": {
    "colab": {
      "name": "Machine Hack's House Price Prediction using Fastai.ipynb",
      "provenance": []
    },
    "kernelspec": {
      "name": "python3",
      "display_name": "Python 3"
    },
    "accelerator": "GPU"
  },
  "cells": [
    {
      "cell_type": "code",
      "metadata": {
        "id": "CiM0_-Yb2_f1"
      },
      "source": [
        "import numpy as np\n",
        "import pandas as pd\n",
        "from fastai.tabular import *\n",
        "import seaborn as sns\n",
        "sns.set(color_codes=True)"
      ],
      "execution_count": null,
      "outputs": []
    },
    {
      "cell_type": "code",
      "metadata": {
        "id": "MCNoOu7O3N8d"
      },
      "source": [
        "train_set = pd.read_csv('/content/Train.csv')\n",
        "test_set = pd.read_csv('/content/Test.csv')"
      ],
      "execution_count": null,
      "outputs": []
    },
    {
      "cell_type": "code",
      "metadata": {
        "id": "us5tqBz83uwu",
        "outputId": "9d02805f-54f1-48ba-b4d4-33f63a13c6e7",
        "colab": {
          "base_uri": "https://localhost:8080/",
          "height": 195
        }
      },
      "source": [
        "train_set.head()"
      ],
      "execution_count": null,
      "outputs": [
        {
          "output_type": "execute_result",
          "data": {
            "text/html": [
              "<div>\n",
              "<style scoped>\n",
              "    .dataframe tbody tr th:only-of-type {\n",
              "        vertical-align: middle;\n",
              "    }\n",
              "\n",
              "    .dataframe tbody tr th {\n",
              "        vertical-align: top;\n",
              "    }\n",
              "\n",
              "    .dataframe thead th {\n",
              "        text-align: right;\n",
              "    }\n",
              "</style>\n",
              "<table border=\"1\" class=\"dataframe\">\n",
              "  <thead>\n",
              "    <tr style=\"text-align: right;\">\n",
              "      <th></th>\n",
              "      <th>POSTED_BY</th>\n",
              "      <th>UNDER_CONSTRUCTION</th>\n",
              "      <th>RERA</th>\n",
              "      <th>BHK_NO.</th>\n",
              "      <th>BHK_OR_RK</th>\n",
              "      <th>SQUARE_FT</th>\n",
              "      <th>READY_TO_MOVE</th>\n",
              "      <th>RESALE</th>\n",
              "      <th>ADDRESS</th>\n",
              "      <th>LONGITUDE</th>\n",
              "      <th>LATITUDE</th>\n",
              "      <th>TARGET(PRICE_IN_LACS)</th>\n",
              "    </tr>\n",
              "  </thead>\n",
              "  <tbody>\n",
              "    <tr>\n",
              "      <th>0</th>\n",
              "      <td>Owner</td>\n",
              "      <td>0</td>\n",
              "      <td>0</td>\n",
              "      <td>2</td>\n",
              "      <td>BHK</td>\n",
              "      <td>1300.236407</td>\n",
              "      <td>1</td>\n",
              "      <td>1</td>\n",
              "      <td>Ksfc Layout,Bangalore</td>\n",
              "      <td>12.969910</td>\n",
              "      <td>77.597960</td>\n",
              "      <td>55.0</td>\n",
              "    </tr>\n",
              "    <tr>\n",
              "      <th>1</th>\n",
              "      <td>Dealer</td>\n",
              "      <td>0</td>\n",
              "      <td>0</td>\n",
              "      <td>2</td>\n",
              "      <td>BHK</td>\n",
              "      <td>1275.000000</td>\n",
              "      <td>1</td>\n",
              "      <td>1</td>\n",
              "      <td>Vishweshwara Nagar,Mysore</td>\n",
              "      <td>12.274538</td>\n",
              "      <td>76.644605</td>\n",
              "      <td>51.0</td>\n",
              "    </tr>\n",
              "    <tr>\n",
              "      <th>2</th>\n",
              "      <td>Owner</td>\n",
              "      <td>0</td>\n",
              "      <td>0</td>\n",
              "      <td>2</td>\n",
              "      <td>BHK</td>\n",
              "      <td>933.159722</td>\n",
              "      <td>1</td>\n",
              "      <td>1</td>\n",
              "      <td>Jigani,Bangalore</td>\n",
              "      <td>12.778033</td>\n",
              "      <td>77.632191</td>\n",
              "      <td>43.0</td>\n",
              "    </tr>\n",
              "    <tr>\n",
              "      <th>3</th>\n",
              "      <td>Owner</td>\n",
              "      <td>0</td>\n",
              "      <td>1</td>\n",
              "      <td>2</td>\n",
              "      <td>BHK</td>\n",
              "      <td>929.921143</td>\n",
              "      <td>1</td>\n",
              "      <td>1</td>\n",
              "      <td>Sector-1 Vaishali,Ghaziabad</td>\n",
              "      <td>28.642300</td>\n",
              "      <td>77.344500</td>\n",
              "      <td>62.5</td>\n",
              "    </tr>\n",
              "    <tr>\n",
              "      <th>4</th>\n",
              "      <td>Dealer</td>\n",
              "      <td>1</td>\n",
              "      <td>0</td>\n",
              "      <td>2</td>\n",
              "      <td>BHK</td>\n",
              "      <td>999.009247</td>\n",
              "      <td>0</td>\n",
              "      <td>1</td>\n",
              "      <td>New Town,Kolkata</td>\n",
              "      <td>22.592200</td>\n",
              "      <td>88.484911</td>\n",
              "      <td>60.5</td>\n",
              "    </tr>\n",
              "  </tbody>\n",
              "</table>\n",
              "</div>"
            ],
            "text/plain": [
              "  POSTED_BY  UNDER_CONSTRUCTION  ...   LATITUDE  TARGET(PRICE_IN_LACS)\n",
              "0     Owner                   0  ...  77.597960                   55.0\n",
              "1    Dealer                   0  ...  76.644605                   51.0\n",
              "2     Owner                   0  ...  77.632191                   43.0\n",
              "3     Owner                   0  ...  77.344500                   62.5\n",
              "4    Dealer                   1  ...  88.484911                   60.5\n",
              "\n",
              "[5 rows x 12 columns]"
            ]
          },
          "metadata": {
            "tags": []
          },
          "execution_count": 40
        }
      ]
    },
    {
      "cell_type": "code",
      "metadata": {
        "id": "K4ZM8KM14al8",
        "outputId": "bcc3d309-146b-4f2b-dc81-96bf3ff79a0b",
        "colab": {
          "base_uri": "https://localhost:8080/",
          "height": 70
        }
      },
      "source": [
        "train_set.select_dtypes(['int','float']).columns"
      ],
      "execution_count": null,
      "outputs": [
        {
          "output_type": "execute_result",
          "data": {
            "text/plain": [
              "Index(['UNDER_CONSTRUCTION', 'RERA', 'BHK_NO.', 'SQUARE_FT', 'READY_TO_MOVE',\n",
              "       'RESALE', 'LONGITUDE', 'LATITUDE', 'TARGET(PRICE_IN_LACS)'],\n",
              "      dtype='object')"
            ]
          },
          "metadata": {
            "tags": []
          },
          "execution_count": 41
        }
      ]
    },
    {
      "cell_type": "code",
      "metadata": {
        "id": "dDi5g39h4j0t",
        "outputId": "c2110dbb-1fe2-4a38-89a4-fd0922320f2b",
        "colab": {
          "base_uri": "https://localhost:8080/",
          "height": 34
        }
      },
      "source": [
        "\n",
        "#Categotical Features in The Dataset\n",
        "train_set.select_dtypes('object').columns"
      ],
      "execution_count": null,
      "outputs": [
        {
          "output_type": "execute_result",
          "data": {
            "text/plain": [
              "Index(['POSTED_BY', 'BHK_OR_RK', 'ADDRESS'], dtype='object')"
            ]
          },
          "metadata": {
            "tags": []
          },
          "execution_count": 42
        }
      ]
    },
    {
      "cell_type": "code",
      "metadata": {
        "id": "OmuVHSr54oZS"
      },
      "source": [
        "train_set.drop(['ADDRESS'],axis=1,inplace=True)"
      ],
      "execution_count": null,
      "outputs": []
    },
    {
      "cell_type": "code",
      "metadata": {
        "id": "5vUO5bJj5Qir"
      },
      "source": [
        "test_set.drop(['ADDRESS'],axis=1,inplace=True)"
      ],
      "execution_count": null,
      "outputs": []
    },
    {
      "cell_type": "code",
      "metadata": {
        "id": "IqGTjqWM5UAo",
        "outputId": "d4ba2ca4-513b-4cce-d5f6-cadf268b2a22",
        "colab": {
          "base_uri": "https://localhost:8080/",
          "height": 195
        }
      },
      "source": [
        "train_set.head()"
      ],
      "execution_count": null,
      "outputs": [
        {
          "output_type": "execute_result",
          "data": {
            "text/html": [
              "<div>\n",
              "<style scoped>\n",
              "    .dataframe tbody tr th:only-of-type {\n",
              "        vertical-align: middle;\n",
              "    }\n",
              "\n",
              "    .dataframe tbody tr th {\n",
              "        vertical-align: top;\n",
              "    }\n",
              "\n",
              "    .dataframe thead th {\n",
              "        text-align: right;\n",
              "    }\n",
              "</style>\n",
              "<table border=\"1\" class=\"dataframe\">\n",
              "  <thead>\n",
              "    <tr style=\"text-align: right;\">\n",
              "      <th></th>\n",
              "      <th>POSTED_BY</th>\n",
              "      <th>UNDER_CONSTRUCTION</th>\n",
              "      <th>RERA</th>\n",
              "      <th>BHK_NO.</th>\n",
              "      <th>BHK_OR_RK</th>\n",
              "      <th>SQUARE_FT</th>\n",
              "      <th>READY_TO_MOVE</th>\n",
              "      <th>RESALE</th>\n",
              "      <th>LONGITUDE</th>\n",
              "      <th>LATITUDE</th>\n",
              "      <th>TARGET(PRICE_IN_LACS)</th>\n",
              "    </tr>\n",
              "  </thead>\n",
              "  <tbody>\n",
              "    <tr>\n",
              "      <th>0</th>\n",
              "      <td>Owner</td>\n",
              "      <td>0</td>\n",
              "      <td>0</td>\n",
              "      <td>2</td>\n",
              "      <td>BHK</td>\n",
              "      <td>1300.236407</td>\n",
              "      <td>1</td>\n",
              "      <td>1</td>\n",
              "      <td>12.969910</td>\n",
              "      <td>77.597960</td>\n",
              "      <td>55.0</td>\n",
              "    </tr>\n",
              "    <tr>\n",
              "      <th>1</th>\n",
              "      <td>Dealer</td>\n",
              "      <td>0</td>\n",
              "      <td>0</td>\n",
              "      <td>2</td>\n",
              "      <td>BHK</td>\n",
              "      <td>1275.000000</td>\n",
              "      <td>1</td>\n",
              "      <td>1</td>\n",
              "      <td>12.274538</td>\n",
              "      <td>76.644605</td>\n",
              "      <td>51.0</td>\n",
              "    </tr>\n",
              "    <tr>\n",
              "      <th>2</th>\n",
              "      <td>Owner</td>\n",
              "      <td>0</td>\n",
              "      <td>0</td>\n",
              "      <td>2</td>\n",
              "      <td>BHK</td>\n",
              "      <td>933.159722</td>\n",
              "      <td>1</td>\n",
              "      <td>1</td>\n",
              "      <td>12.778033</td>\n",
              "      <td>77.632191</td>\n",
              "      <td>43.0</td>\n",
              "    </tr>\n",
              "    <tr>\n",
              "      <th>3</th>\n",
              "      <td>Owner</td>\n",
              "      <td>0</td>\n",
              "      <td>1</td>\n",
              "      <td>2</td>\n",
              "      <td>BHK</td>\n",
              "      <td>929.921143</td>\n",
              "      <td>1</td>\n",
              "      <td>1</td>\n",
              "      <td>28.642300</td>\n",
              "      <td>77.344500</td>\n",
              "      <td>62.5</td>\n",
              "    </tr>\n",
              "    <tr>\n",
              "      <th>4</th>\n",
              "      <td>Dealer</td>\n",
              "      <td>1</td>\n",
              "      <td>0</td>\n",
              "      <td>2</td>\n",
              "      <td>BHK</td>\n",
              "      <td>999.009247</td>\n",
              "      <td>0</td>\n",
              "      <td>1</td>\n",
              "      <td>22.592200</td>\n",
              "      <td>88.484911</td>\n",
              "      <td>60.5</td>\n",
              "    </tr>\n",
              "  </tbody>\n",
              "</table>\n",
              "</div>"
            ],
            "text/plain": [
              "  POSTED_BY  UNDER_CONSTRUCTION  ...   LATITUDE  TARGET(PRICE_IN_LACS)\n",
              "0     Owner                   0  ...  77.597960                   55.0\n",
              "1    Dealer                   0  ...  76.644605                   51.0\n",
              "2     Owner                   0  ...  77.632191                   43.0\n",
              "3     Owner                   0  ...  77.344500                   62.5\n",
              "4    Dealer                   1  ...  88.484911                   60.5\n",
              "\n",
              "[5 rows x 11 columns]"
            ]
          },
          "metadata": {
            "tags": []
          },
          "execution_count": 45
        }
      ]
    },
    {
      "cell_type": "code",
      "metadata": {
        "id": "lvnIR0qB7NWw"
      },
      "source": [
        "path = ''\n",
        "dep_var = 'TARGET(PRICE_IN_LACS)'\n",
        "cat_names = ['POSTED_BY','BHK_OR_RK','UNDER_CONSTRUCTION','RERA','BHK_NO.','READY_TO_MOVE','RESALE']\n",
        "cont_names = ['SQUARE_FT','LONGITUDE','LATITUDE']\n",
        "\n",
        "procs = [FillMissing,Categorify,Normalize]"
      ],
      "execution_count": null,
      "outputs": []
    },
    {
      "cell_type": "code",
      "metadata": {
        "id": "kOxn8_787_Xv"
      },
      "source": [
        "#Start index for creating a validation set from train_data\n",
        "start_indx = len(train_set) - int(len(train_set) * 0.2)\n",
        "\n",
        "#End index for creating a validation set from train_data\n",
        "end_indx = len(train_set)\n",
        "#TabularList for Validation\n",
        "val = (TabularList.from_df(train_set.iloc[start_indx:end_indx].copy(),\n",
        "                           path= path,cat_names=cat_names,\n",
        "                           cont_names = cont_names))\n",
        "test = (TabularList.from_df(test_set, path=path, cat_names=cat_names, cont_names=cont_names, procs=procs))"
      ],
      "execution_count": null,
      "outputs": []
    },
    {
      "cell_type": "code",
      "metadata": {
        "id": "ZuGuiQML-7dP"
      },
      "source": [
        "#TabularList for training\n",
        "data = (TabularList.from_df(\n",
        "    train_set,path=path,cat_names=cat_names, \n",
        "    cont_names=cont_names, \n",
        "    procs=procs).split_by_idx(list(range(start_indx,end_indx)))\n",
        "    .label_from_df(cols=dep_var)\n",
        "    .add_test(test)\n",
        "    .databunch())"
      ],
      "execution_count": null,
      "outputs": []
    },
    {
      "cell_type": "code",
      "metadata": {
        "id": "N8z0e2Ze_5Wy",
        "outputId": "2c3b5568-2353-48d3-8fd9-0da55b416984",
        "colab": {
          "base_uri": "https://localhost:8080/",
          "height": 195
        }
      },
      "source": [
        "data.show_batch(rows=5)"
      ],
      "execution_count": null,
      "outputs": [
        {
          "output_type": "display_data",
          "data": {
            "text/html": [
              "<table border=\"1\" class=\"dataframe\">\n",
              "  <thead>\n",
              "    <tr style=\"text-align: right;\">\n",
              "      <th>POSTED_BY</th>\n",
              "      <th>BHK_OR_RK</th>\n",
              "      <th>UNDER_CONSTRUCTION</th>\n",
              "      <th>RERA</th>\n",
              "      <th>BHK_NO.</th>\n",
              "      <th>READY_TO_MOVE</th>\n",
              "      <th>RESALE</th>\n",
              "      <th>SQUARE_FT</th>\n",
              "      <th>LONGITUDE</th>\n",
              "      <th>LATITUDE</th>\n",
              "      <th>target</th>\n",
              "    </tr>\n",
              "  </thead>\n",
              "  <tbody>\n",
              "    <tr>\n",
              "      <td>Owner</td>\n",
              "      <td>BHK</td>\n",
              "      <td>0</td>\n",
              "      <td>0</td>\n",
              "      <td>3</td>\n",
              "      <td>1</td>\n",
              "      <td>1</td>\n",
              "      <td>-0.0104</td>\n",
              "      <td>1.1846</td>\n",
              "      <td>0.0456</td>\n",
              "      <td>200.0</td>\n",
              "    </tr>\n",
              "    <tr>\n",
              "      <td>Dealer</td>\n",
              "      <td>BHK</td>\n",
              "      <td>1</td>\n",
              "      <td>1</td>\n",
              "      <td>4</td>\n",
              "      <td>0</td>\n",
              "      <td>1</td>\n",
              "      <td>-0.0101</td>\n",
              "      <td>1.1638</td>\n",
              "      <td>0.0464</td>\n",
              "      <td>360.0</td>\n",
              "    </tr>\n",
              "    <tr>\n",
              "      <td>Dealer</td>\n",
              "      <td>BHK</td>\n",
              "      <td>0</td>\n",
              "      <td>0</td>\n",
              "      <td>3</td>\n",
              "      <td>1</td>\n",
              "      <td>1</td>\n",
              "      <td>-0.0108</td>\n",
              "      <td>0.2108</td>\n",
              "      <td>1.1281</td>\n",
              "      <td>36.0</td>\n",
              "    </tr>\n",
              "    <tr>\n",
              "      <td>Dealer</td>\n",
              "      <td>BHK</td>\n",
              "      <td>0</td>\n",
              "      <td>1</td>\n",
              "      <td>3</td>\n",
              "      <td>1</td>\n",
              "      <td>1</td>\n",
              "      <td>-0.0102</td>\n",
              "      <td>0.1385</td>\n",
              "      <td>-0.1037</td>\n",
              "      <td>91.2</td>\n",
              "    </tr>\n",
              "    <tr>\n",
              "      <td>Owner</td>\n",
              "      <td>BHK</td>\n",
              "      <td>0</td>\n",
              "      <td>0</td>\n",
              "      <td>3</td>\n",
              "      <td>1</td>\n",
              "      <td>1</td>\n",
              "      <td>-0.0104</td>\n",
              "      <td>0.9296</td>\n",
              "      <td>-0.1256</td>\n",
              "      <td>70.0</td>\n",
              "    </tr>\n",
              "  </tbody>\n",
              "</table>"
            ],
            "text/plain": [
              "<IPython.core.display.HTML object>"
            ]
          },
          "metadata": {
            "tags": []
          }
        }
      ]
    },
    {
      "cell_type": "code",
      "metadata": {
        "id": "PHvDDkKD_-tB"
      },
      "source": [
        "#Initializing the network\n",
        "learn = tabular_learner(data, layers=[500,400,300,200, 100, 50], metrics= [rmse,r2_score])"
      ],
      "execution_count": null,
      "outputs": []
    },
    {
      "cell_type": "code",
      "metadata": {
        "id": "CmSC_KV7AiiB",
        "outputId": "3ebbaaac-8b8e-4e64-ce30-36f8428127eb",
        "colab": {
          "base_uri": "https://localhost:8080/",
          "height": 1000
        }
      },
      "source": [
        "learn.summary\n"
      ],
      "execution_count": null,
      "outputs": [
        {
          "output_type": "execute_result",
          "data": {
            "text/plain": [
              "<bound method model_summary of Learner(data=TabularDataBunch;\n",
              "\n",
              "Train: LabelList (23561 items)\n",
              "x: TabularList\n",
              "POSTED_BY Owner; BHK_OR_RK BHK; UNDER_CONSTRUCTION 0; RERA 0; BHK_NO. 2; READY_TO_MOVE 1; RESALE 1; SQUARE_FT -0.0107; LONGITUDE -1.3487; LATITUDE 0.0699; ,POSTED_BY Dealer; BHK_OR_RK BHK; UNDER_CONSTRUCTION 0; RERA 0; BHK_NO. 2; READY_TO_MOVE 1; RESALE 1; SQUARE_FT -0.0107; LONGITUDE -1.4610; LATITUDE -0.0231; ,POSTED_BY Owner; BHK_OR_RK BHK; UNDER_CONSTRUCTION 0; RERA 0; BHK_NO. 2; READY_TO_MOVE 1; RESALE 1; SQUARE_FT -0.0109; LONGITUDE -1.3797; LATITUDE 0.0732; ,POSTED_BY Owner; BHK_OR_RK BHK; UNDER_CONSTRUCTION 0; RERA 1; BHK_NO. 2; READY_TO_MOVE 1; RESALE 1; SQUARE_FT -0.0109; LONGITUDE 1.1830; LATITUDE 0.0452; ,POSTED_BY Dealer; BHK_OR_RK BHK; UNDER_CONSTRUCTION 1; RERA 0; BHK_NO. 2; READY_TO_MOVE 0; RESALE 1; SQUARE_FT -0.0109; LONGITUDE 0.2057; LATITUDE 1.1323; \n",
              "y: FloatList\n",
              "55.0,51.0,43.0,62.5,60.5\n",
              "Path: .;\n",
              "\n",
              "Valid: LabelList (5890 items)\n",
              "x: TabularList\n",
              "POSTED_BY Dealer; BHK_OR_RK BHK; UNDER_CONSTRUCTION 0; RERA 1; BHK_NO. 2; READY_TO_MOVE 1; RESALE 1; SQUARE_FT -0.0108; LONGITUDE 0.8952; LATITUDE 0.3937; ,POSTED_BY Owner; BHK_OR_RK BHK; UNDER_CONSTRUCTION 0; RERA 0; BHK_NO. 2; READY_TO_MOVE 1; RESALE 1; SQUARE_FT -0.0109; LONGITUDE -0.9465; LATITUDE -0.2869; ,POSTED_BY Dealer; BHK_OR_RK BHK; UNDER_CONSTRUCTION 1; RERA 0; BHK_NO. 2; READY_TO_MOVE 0; RESALE 1; SQUARE_FT -0.0109; LONGITUDE -0.3255; LATITUDE 0.7543; ,POSTED_BY Owner; BHK_OR_RK BHK; UNDER_CONSTRUCTION 0; RERA 0; BHK_NO. 1; READY_TO_MOVE 1; RESALE 1; SQUARE_FT -0.0110; LONGITUDE 0.8956; LATITUDE -0.1091; ,POSTED_BY Builder; BHK_OR_RK BHK; UNDER_CONSTRUCTION 1; RERA 1; BHK_NO. 1; READY_TO_MOVE 0; RESALE 0; SQUARE_FT -0.0111; LONGITUDE -0.7142; LATITUDE -0.3415; \n",
              "y: FloatList\n",
              "47.1,43.0,33.0,21.5,14.1\n",
              "Path: .;\n",
              "\n",
              "Test: LabelList (68720 items)\n",
              "x: TabularList\n",
              "POSTED_BY Owner; BHK_OR_RK BHK; UNDER_CONSTRUCTION 0; RERA 0; BHK_NO. 1; READY_TO_MOVE 1; RESALE 1; SQUARE_FT -0.0111; LONGITUDE -0.0092; LATITUDE -0.3742; ,POSTED_BY Dealer; BHK_OR_RK BHK; UNDER_CONSTRUCTION 1; RERA 1; BHK_NO. 2; READY_TO_MOVE 0; RESALE 0; SQUARE_FT -0.0110; LONGITUDE -0.3800; LATITUDE -0.3643; ,POSTED_BY Dealer; BHK_OR_RK BHK; UNDER_CONSTRUCTION 0; RERA 0; BHK_NO. 2; READY_TO_MOVE 1; RESALE 1; SQUARE_FT -0.0107; LONGITUDE 0.2057; LATITUDE 1.1323; ,POSTED_BY Dealer; BHK_OR_RK BHK; UNDER_CONSTRUCTION 0; RERA 0; BHK_NO. 3; READY_TO_MOVE 1; RESALE 1; SQUARE_FT -0.0107; LONGITUDE 0.9159; LATITUDE -0.1266; ,POSTED_BY Owner; BHK_OR_RK BHK; UNDER_CONSTRUCTION 0; RERA 0; BHK_NO. 1; READY_TO_MOVE 1; RESALE 1; SQUARE_FT -0.0111; LONGITUDE 0.2231; LATITUDE -0.3915; \n",
              "y: EmptyLabelList\n",
              ",,,,\n",
              "Path: ., model=TabularModel(\n",
              "  (embeds): ModuleList(\n",
              "    (0): Embedding(4, 3)\n",
              "    (1): Embedding(3, 3)\n",
              "    (2): Embedding(3, 3)\n",
              "    (3): Embedding(3, 3)\n",
              "    (4): Embedding(17, 8)\n",
              "    (5): Embedding(3, 3)\n",
              "    (6): Embedding(3, 3)\n",
              "  )\n",
              "  (emb_drop): Dropout(p=0.0, inplace=False)\n",
              "  (bn_cont): BatchNorm1d(3, eps=1e-05, momentum=0.1, affine=True, track_running_stats=True)\n",
              "  (layers): Sequential(\n",
              "    (0): Linear(in_features=29, out_features=500, bias=True)\n",
              "    (1): ReLU(inplace=True)\n",
              "    (2): BatchNorm1d(500, eps=1e-05, momentum=0.1, affine=True, track_running_stats=True)\n",
              "    (3): Linear(in_features=500, out_features=400, bias=True)\n",
              "    (4): ReLU(inplace=True)\n",
              "    (5): BatchNorm1d(400, eps=1e-05, momentum=0.1, affine=True, track_running_stats=True)\n",
              "    (6): Linear(in_features=400, out_features=300, bias=True)\n",
              "    (7): ReLU(inplace=True)\n",
              "    (8): BatchNorm1d(300, eps=1e-05, momentum=0.1, affine=True, track_running_stats=True)\n",
              "    (9): Linear(in_features=300, out_features=200, bias=True)\n",
              "    (10): ReLU(inplace=True)\n",
              "    (11): BatchNorm1d(200, eps=1e-05, momentum=0.1, affine=True, track_running_stats=True)\n",
              "    (12): Linear(in_features=200, out_features=100, bias=True)\n",
              "    (13): ReLU(inplace=True)\n",
              "    (14): BatchNorm1d(100, eps=1e-05, momentum=0.1, affine=True, track_running_stats=True)\n",
              "    (15): Linear(in_features=100, out_features=50, bias=True)\n",
              "    (16): ReLU(inplace=True)\n",
              "    (17): BatchNorm1d(50, eps=1e-05, momentum=0.1, affine=True, track_running_stats=True)\n",
              "    (18): Linear(in_features=50, out_features=1, bias=True)\n",
              "  )\n",
              "), opt_func=functools.partial(<class 'torch.optim.adam.Adam'>, betas=(0.9, 0.99)), loss_func=FlattenedLoss of MSELoss(), metrics=[<function root_mean_squared_error at 0x7fc4a2d20598>, <function r2_score at 0x7fc4a2d20730>], true_wd=True, bn_wd=True, wd=0.01, train_bn=True, path=PosixPath('.'), model_dir='models', callback_fns=[functools.partial(<class 'fastai.basic_train.Recorder'>, add_time=True, silent=False)], callbacks=[], layer_groups=[Sequential(\n",
              "  (0): Embedding(4, 3)\n",
              "  (1): Embedding(3, 3)\n",
              "  (2): Embedding(3, 3)\n",
              "  (3): Embedding(3, 3)\n",
              "  (4): Embedding(17, 8)\n",
              "  (5): Embedding(3, 3)\n",
              "  (6): Embedding(3, 3)\n",
              "  (7): Dropout(p=0.0, inplace=False)\n",
              "  (8): BatchNorm1d(3, eps=1e-05, momentum=0.1, affine=True, track_running_stats=True)\n",
              "  (9): Linear(in_features=29, out_features=500, bias=True)\n",
              "  (10): ReLU(inplace=True)\n",
              "  (11): BatchNorm1d(500, eps=1e-05, momentum=0.1, affine=True, track_running_stats=True)\n",
              "  (12): Linear(in_features=500, out_features=400, bias=True)\n",
              "  (13): ReLU(inplace=True)\n",
              "  (14): BatchNorm1d(400, eps=1e-05, momentum=0.1, affine=True, track_running_stats=True)\n",
              "  (15): Linear(in_features=400, out_features=300, bias=True)\n",
              "  (16): ReLU(inplace=True)\n",
              "  (17): BatchNorm1d(300, eps=1e-05, momentum=0.1, affine=True, track_running_stats=True)\n",
              "  (18): Linear(in_features=300, out_features=200, bias=True)\n",
              "  (19): ReLU(inplace=True)\n",
              "  (20): BatchNorm1d(200, eps=1e-05, momentum=0.1, affine=True, track_running_stats=True)\n",
              "  (21): Linear(in_features=200, out_features=100, bias=True)\n",
              "  (22): ReLU(inplace=True)\n",
              "  (23): BatchNorm1d(100, eps=1e-05, momentum=0.1, affine=True, track_running_stats=True)\n",
              "  (24): Linear(in_features=100, out_features=50, bias=True)\n",
              "  (25): ReLU(inplace=True)\n",
              "  (26): BatchNorm1d(50, eps=1e-05, momentum=0.1, affine=True, track_running_stats=True)\n",
              "  (27): Linear(in_features=50, out_features=1, bias=True)\n",
              ")], add_time=True, silent=False)>"
            ]
          },
          "metadata": {
            "tags": []
          },
          "execution_count": 51
        }
      ]
    },
    {
      "cell_type": "code",
      "metadata": {
        "id": "LBCBNt4qAkaW",
        "outputId": "c4248a1f-ad35-4ab2-8547-6f715bda509c",
        "colab": {
          "base_uri": "https://localhost:8080/",
          "height": 379
        }
      },
      "source": [
        "learn.lr_find(start_lr = 1e-05,end_lr = 1e+05, num_it = 100)\n",
        "learn.recorder.plot()"
      ],
      "execution_count": null,
      "outputs": [
        {
          "output_type": "display_data",
          "data": {
            "text/html": [
              "\n",
              "    <div>\n",
              "        <style>\n",
              "            /* Turns off some styling */\n",
              "            progress {\n",
              "                /* gets rid of default border in Firefox and Opera. */\n",
              "                border: none;\n",
              "                /* Needs to be in here for Safari polyfill so background images work as expected. */\n",
              "                background-size: auto;\n",
              "            }\n",
              "            .progress-bar-interrupted, .progress-bar-interrupted::-webkit-progress-bar {\n",
              "                background: #F44336;\n",
              "            }\n",
              "        </style>\n",
              "      <progress value='0' class='' max='1' style='width:300px; height:20px; vertical-align: middle;'></progress>\n",
              "      0.00% [0/1 00:00<00:00]\n",
              "    </div>\n",
              "    \n",
              "<table border=\"1\" class=\"dataframe\">\n",
              "  <thead>\n",
              "    <tr style=\"text-align: left;\">\n",
              "      <th>epoch</th>\n",
              "      <th>train_loss</th>\n",
              "      <th>valid_loss</th>\n",
              "      <th>root_mean_squared_error</th>\n",
              "      <th>r2_score</th>\n",
              "      <th>time</th>\n",
              "    </tr>\n",
              "  </thead>\n",
              "  <tbody>\n",
              "  </tbody>\n",
              "</table><p>\n",
              "\n",
              "    <div>\n",
              "        <style>\n",
              "            /* Turns off some styling */\n",
              "            progress {\n",
              "                /* gets rid of default border in Firefox and Opera. */\n",
              "                border: none;\n",
              "                /* Needs to be in here for Safari polyfill so background images work as expected. */\n",
              "                background-size: auto;\n",
              "            }\n",
              "            .progress-bar-interrupted, .progress-bar-interrupted::-webkit-progress-bar {\n",
              "                background: #F44336;\n",
              "            }\n",
              "        </style>\n",
              "      <progress value='58' class='' max='368' style='width:300px; height:20px; vertical-align: middle;'></progress>\n",
              "      15.76% [58/368 00:01<00:06 312616.6250]\n",
              "    </div>\n",
              "    "
            ],
            "text/plain": [
              "<IPython.core.display.HTML object>"
            ]
          },
          "metadata": {
            "tags": []
          }
        },
        {
          "output_type": "stream",
          "text": [
            "LR Finder is complete, type {learner_name}.recorder.plot() to see the graph.\n"
          ],
          "name": "stdout"
        },
        {
          "output_type": "display_data",
          "data": {
            "image/png": "[encoded data removed]",
            "text/plain": [
              "<Figure size 432x288 with 1 Axes>"
            ]
          },
          "metadata": {
            "tags": []
          }
        }
      ]
    },
    {
      "cell_type": "code",
      "metadata": {
        "id": "mnrejqBtArcf",
        "outputId": "76c75829-71c4-4c40-a24b-58314924d68a",
        "colab": {
          "base_uri": "https://localhost:8080/",
          "height": 787
        }
      },
      "source": [
        "#Fitting data and training the network\n",
        "learn.fit_one_cycle(25)"
      ],
      "execution_count": null,
      "outputs": [
        {
          "output_type": "display_data",
          "data": {
            "text/html": [
              "<table border=\"1\" class=\"dataframe\">\n",
              "  <thead>\n",
              "    <tr style=\"text-align: left;\">\n",
              "      <th>epoch</th>\n",
              "      <th>train_loss</th>\n",
              "      <th>valid_loss</th>\n",
              "      <th>root_mean_squared_error</th>\n",
              "      <th>r2_score</th>\n",
              "      <th>time</th>\n",
              "    </tr>\n",
              "  </thead>\n",
              "  <tbody>\n",
              "    <tr>\n",
              "      <td>0</td>\n",
              "      <td>133751.250000</td>\n",
              "      <td>1851838848.000000</td>\n",
              "      <td>19546.630859</td>\n",
              "      <td>-141078.531250</td>\n",
              "      <td>00:07</td>\n",
              "    </tr>\n",
              "    <tr>\n",
              "      <td>1</td>\n",
              "      <td>129852.437500</td>\n",
              "      <td>1599581.500000</td>\n",
              "      <td>796.854065</td>\n",
              "      <td>-141.047180</td>\n",
              "      <td>00:07</td>\n",
              "    </tr>\n",
              "    <tr>\n",
              "      <td>2</td>\n",
              "      <td>140177.250000</td>\n",
              "      <td>18888628.000000</td>\n",
              "      <td>2164.842041</td>\n",
              "      <td>-1305.428589</td>\n",
              "      <td>00:07</td>\n",
              "    </tr>\n",
              "    <tr>\n",
              "      <td>3</td>\n",
              "      <td>199112.515625</td>\n",
              "      <td>802510400.000000</td>\n",
              "      <td>13038.877930</td>\n",
              "      <td>-56259.507812</td>\n",
              "      <td>00:07</td>\n",
              "    </tr>\n",
              "    <tr>\n",
              "      <td>4</td>\n",
              "      <td>48160.300781</td>\n",
              "      <td>652520456192.000000</td>\n",
              "      <td>381266.500000</td>\n",
              "      <td>-53643676.000000</td>\n",
              "      <td>00:07</td>\n",
              "    </tr>\n",
              "    <tr>\n",
              "      <td>5</td>\n",
              "      <td>41331.191406</td>\n",
              "      <td>72880291840.000000</td>\n",
              "      <td>131614.093750</td>\n",
              "      <td>-5453946.500000</td>\n",
              "      <td>00:08</td>\n",
              "    </tr>\n",
              "    <tr>\n",
              "      <td>6</td>\n",
              "      <td>109718.281250</td>\n",
              "      <td>592076736.000000</td>\n",
              "      <td>11065.943359</td>\n",
              "      <td>-35442.582031</td>\n",
              "      <td>00:07</td>\n",
              "    </tr>\n",
              "    <tr>\n",
              "      <td>7</td>\n",
              "      <td>65100.449219</td>\n",
              "      <td>891491586943221760.000000</td>\n",
              "      <td>111911000.000000</td>\n",
              "      <td>-702529929216.000000</td>\n",
              "      <td>00:07</td>\n",
              "    </tr>\n",
              "    <tr>\n",
              "      <td>8</td>\n",
              "      <td>137222.171875</td>\n",
              "      <td>26332150890496.000000</td>\n",
              "      <td>664890.562500</td>\n",
              "      <td>-31869178.000000</td>\n",
              "      <td>00:07</td>\n",
              "    </tr>\n",
              "    <tr>\n",
              "      <td>9</td>\n",
              "      <td>88069.007812</td>\n",
              "      <td>2021918900224.000000</td>\n",
              "      <td>175716.484375</td>\n",
              "      <td>-2174125.250000</td>\n",
              "      <td>00:07</td>\n",
              "    </tr>\n",
              "    <tr>\n",
              "      <td>10</td>\n",
              "      <td>90477.273438</td>\n",
              "      <td>80552697856.000000</td>\n",
              "      <td>135685.937500</td>\n",
              "      <td>-6082563.500000</td>\n",
              "      <td>00:07</td>\n",
              "    </tr>\n",
              "    <tr>\n",
              "      <td>11</td>\n",
              "      <td>180624.171875</td>\n",
              "      <td>666902528000.000000</td>\n",
              "      <td>383518.937500</td>\n",
              "      <td>-56597692.000000</td>\n",
              "      <td>00:07</td>\n",
              "    </tr>\n",
              "    <tr>\n",
              "      <td>12</td>\n",
              "      <td>173304.437500</td>\n",
              "      <td>6160463360.000000</td>\n",
              "      <td>34027.339844</td>\n",
              "      <td>-523805.156250</td>\n",
              "      <td>00:07</td>\n",
              "    </tr>\n",
              "    <tr>\n",
              "      <td>13</td>\n",
              "      <td>208732.828125</td>\n",
              "      <td>101550047232.000000</td>\n",
              "      <td>145305.484375</td>\n",
              "      <td>-7450990.500000</td>\n",
              "      <td>00:07</td>\n",
              "    </tr>\n",
              "    <tr>\n",
              "      <td>14</td>\n",
              "      <td>72900.460938</td>\n",
              "      <td>472874221568.000000</td>\n",
              "      <td>342182.437500</td>\n",
              "      <td>-33810300.000000</td>\n",
              "      <td>00:07</td>\n",
              "    </tr>\n",
              "    <tr>\n",
              "      <td>15</td>\n",
              "      <td>30906.761719</td>\n",
              "      <td>1985899134976.000000</td>\n",
              "      <td>674677.250000</td>\n",
              "      <td>-146301472.000000</td>\n",
              "      <td>00:07</td>\n",
              "    </tr>\n",
              "    <tr>\n",
              "      <td>16</td>\n",
              "      <td>86036.414062</td>\n",
              "      <td>121870737408.000000</td>\n",
              "      <td>162020.359375</td>\n",
              "      <td>-9191715.000000</td>\n",
              "      <td>00:07</td>\n",
              "    </tr>\n",
              "    <tr>\n",
              "      <td>17</td>\n",
              "      <td>66578.609375</td>\n",
              "      <td>9256050688.000000</td>\n",
              "      <td>44529.164062</td>\n",
              "      <td>-654053.125000</td>\n",
              "      <td>00:07</td>\n",
              "    </tr>\n",
              "    <tr>\n",
              "      <td>18</td>\n",
              "      <td>135430.609375</td>\n",
              "      <td>58523293094772736.000000</td>\n",
              "      <td>114353976.000000</td>\n",
              "      <td>-4198543917056.000000</td>\n",
              "      <td>00:07</td>\n",
              "    </tr>\n",
              "    <tr>\n",
              "      <td>19</td>\n",
              "      <td>41049.542969</td>\n",
              "      <td>351190610981421056.000000</td>\n",
              "      <td>284393056.000000</td>\n",
              "      <td>-24055480582144.000000</td>\n",
              "      <td>00:07</td>\n",
              "    </tr>\n",
              "    <tr>\n",
              "      <td>20</td>\n",
              "      <td>159022.468750</td>\n",
              "      <td>36623253504.000000</td>\n",
              "      <td>20432.425781</td>\n",
              "      <td>-28544.751953</td>\n",
              "      <td>00:07</td>\n",
              "    </tr>\n",
              "    <tr>\n",
              "      <td>21</td>\n",
              "      <td>83542.703125</td>\n",
              "      <td>84224367394816.000000</td>\n",
              "      <td>3225210.500000</td>\n",
              "      <td>-3972566016.000000</td>\n",
              "      <td>00:07</td>\n",
              "    </tr>\n",
              "    <tr>\n",
              "      <td>22</td>\n",
              "      <td>70930.390625</td>\n",
              "      <td>1826812397092864.000000</td>\n",
              "      <td>20622458.000000</td>\n",
              "      <td>-124543246336.000000</td>\n",
              "      <td>00:07</td>\n",
              "    </tr>\n",
              "    <tr>\n",
              "      <td>23</td>\n",
              "      <td>80901.023438</td>\n",
              "      <td>145206418604032.000000</td>\n",
              "      <td>4313779.500000</td>\n",
              "      <td>-7399217152.000000</td>\n",
              "      <td>00:07</td>\n",
              "    </tr>\n",
              "    <tr>\n",
              "      <td>24</td>\n",
              "      <td>70291.023438</td>\n",
              "      <td>5176786157568.000000</td>\n",
              "      <td>1164651.750000</td>\n",
              "      <td>-293522336.000000</td>\n",
              "      <td>00:07</td>\n",
              "    </tr>\n",
              "  </tbody>\n",
              "</table>"
            ],
            "text/plain": [
              "<IPython.core.display.HTML object>"
            ]
          },
          "metadata": {
            "tags": []
          }
        }
      ]
    },
    {
      "cell_type": "code",
      "metadata": {
        "id": "MUVlA32eBEj0",
        "outputId": "c5dba964-c966-4a00-fc16-616323873e6b",
        "colab": {
          "base_uri": "https://localhost:8080/",
          "height": 195
        }
      },
      "source": [
        "#Display Predictions On Validation Data\n",
        "learn.show_results(ds_type=DatasetType.Valid)"
      ],
      "execution_count": null,
      "outputs": [
        {
          "output_type": "display_data",
          "data": {
            "text/html": [
              "<table border=\"1\" class=\"dataframe\">\n",
              "  <thead>\n",
              "    <tr style=\"text-align: right;\">\n",
              "      <th>POSTED_BY</th>\n",
              "      <th>BHK_OR_RK</th>\n",
              "      <th>UNDER_CONSTRUCTION</th>\n",
              "      <th>RERA</th>\n",
              "      <th>BHK_NO.</th>\n",
              "      <th>READY_TO_MOVE</th>\n",
              "      <th>RESALE</th>\n",
              "      <th>SQUARE_FT</th>\n",
              "      <th>LONGITUDE</th>\n",
              "      <th>LATITUDE</th>\n",
              "      <th>target</th>\n",
              "      <th>prediction</th>\n",
              "    </tr>\n",
              "  </thead>\n",
              "  <tbody>\n",
              "    <tr>\n",
              "      <td>Dealer</td>\n",
              "      <td>BHK</td>\n",
              "      <td>0</td>\n",
              "      <td>1</td>\n",
              "      <td>2</td>\n",
              "      <td>1</td>\n",
              "      <td>1</td>\n",
              "      <td>-0.0108</td>\n",
              "      <td>0.8952</td>\n",
              "      <td>0.3937</td>\n",
              "      <td>47.1</td>\n",
              "      <td>[119.79305]</td>\n",
              "    </tr>\n",
              "    <tr>\n",
              "      <td>Owner</td>\n",
              "      <td>BHK</td>\n",
              "      <td>0</td>\n",
              "      <td>0</td>\n",
              "      <td>2</td>\n",
              "      <td>1</td>\n",
              "      <td>1</td>\n",
              "      <td>-0.0109</td>\n",
              "      <td>-0.9465</td>\n",
              "      <td>-0.2869</td>\n",
              "      <td>43.0</td>\n",
              "      <td>[105.198616]</td>\n",
              "    </tr>\n",
              "    <tr>\n",
              "      <td>Dealer</td>\n",
              "      <td>BHK</td>\n",
              "      <td>1</td>\n",
              "      <td>0</td>\n",
              "      <td>2</td>\n",
              "      <td>0</td>\n",
              "      <td>1</td>\n",
              "      <td>-0.0109</td>\n",
              "      <td>-0.3255</td>\n",
              "      <td>0.7543</td>\n",
              "      <td>33.0</td>\n",
              "      <td>[106.86988]</td>\n",
              "    </tr>\n",
              "    <tr>\n",
              "      <td>Owner</td>\n",
              "      <td>BHK</td>\n",
              "      <td>0</td>\n",
              "      <td>0</td>\n",
              "      <td>1</td>\n",
              "      <td>1</td>\n",
              "      <td>1</td>\n",
              "      <td>-0.0110</td>\n",
              "      <td>0.8956</td>\n",
              "      <td>-0.1091</td>\n",
              "      <td>21.5</td>\n",
              "      <td>[99.3401]</td>\n",
              "    </tr>\n",
              "    <tr>\n",
              "      <td>Builder</td>\n",
              "      <td>BHK</td>\n",
              "      <td>1</td>\n",
              "      <td>1</td>\n",
              "      <td>1</td>\n",
              "      <td>0</td>\n",
              "      <td>0</td>\n",
              "      <td>-0.0111</td>\n",
              "      <td>-0.7142</td>\n",
              "      <td>-0.3415</td>\n",
              "      <td>14.1</td>\n",
              "      <td>[110.111374]</td>\n",
              "    </tr>\n",
              "  </tbody>\n",
              "</table>"
            ],
            "text/plain": [
              "<IPython.core.display.HTML object>"
            ]
          },
          "metadata": {
            "tags": []
          }
        }
      ]
    },
    {
      "cell_type": "code",
      "metadata": {
        "id": "8zzNNHdrBwUB",
        "outputId": "daed688f-e994-4d76-b82b-321db282f0b3",
        "colab": {
          "base_uri": "https://localhost:8080/",
          "height": 37
        }
      },
      "source": [
        "#Getting The Training And Validation Errors\n",
        "\n",
        "tr = learn.validate(learn.data.train_dl)\n",
        "va = learn.validate(learn.data.valid_dl)\n",
        "print(\"The Metrics used In Evaluating The Network:\", str(learn.metrics))\n",
        "\n",
        "print(\"\\nThe calculated RMSE & R-Squared For The Training Set :\", tr[1:])\n",
        "print(\"\\nThe calculated RMSE & R-Squared For The Validation Set :\", va[1:])"
      ],
      "execution_count": null,
      "outputs": [
        {
          "output_type": "display_data",
          "data": {
            "text/html": [
              ""
            ],
            "text/plain": [
              "<IPython.core.display.HTML object>"
            ]
          },
          "metadata": {
            "tags": []
          }
        },
        {
          "output_type": "display_data",
          "data": {
            "text/html": [
              ""
            ],
            "text/plain": [
              "<IPython.core.display.HTML object>"
            ]
          },
          "metadata": {
            "tags": []
          }
        }
      ]
    },
    {
      "cell_type": "code",
      "metadata": {
        "id": "61dCoPhRFVE0"
      },
      "source": [
        "#Plotting The losses for training and validation\n",
        "learn.recorder.plot_losses()"
      ],
      "execution_count": null,
      "outputs": []
    },
    {
      "cell_type": "code",
      "metadata": {
        "id": "Mk2cOGw2Fj3b"
      },
      "source": [
        "\n",
        "#Plotting Momentum & Learning Rate\n",
        "learn.recorder.plot_lr(show_moms=True)"
      ],
      "execution_count": null,
      "outputs": []
    },
    {
      "cell_type": "code",
      "metadata": {
        "id": "K8k063ufFz5l",
        "outputId": "5cb350d3-c0af-4e69-af40-f6e361323eca",
        "colab": {
          "base_uri": "https://localhost:8080/",
          "height": 502
        }
      },
      "source": [
        "\n",
        "#Plotting the metrics of evaluation\n",
        "learn.recorder.plot_metrics()"
      ],
      "execution_count": null,
      "outputs": [
        {
          "output_type": "display_data",
          "data": {
            "image/png": "[encoded data removed]",
            "text/plain": [
              "<Figure size 432x576 with 2 Axes>"
            ]
          },
          "metadata": {
            "tags": []
          }
        }
      ]
    },
    {
      "cell_type": "code",
      "metadata": {
        "id": "a8dS_8sXF0fJ"
      },
      "source": [
        "val = train_set.tail(5890)"
      ],
      "execution_count": null,
      "outputs": []
    },
    {
      "cell_type": "code",
      "metadata": {
        "id": "MjEIKR35F6ZK",
        "outputId": "7a95dbe8-3b3d-4730-c9e9-674fe9e114b4",
        "colab": {
          "base_uri": "https://localhost:8080/",
          "height": 122
        }
      },
      "source": [
        "#Converting the prediction to DataFrame for Comparing\n",
        "val_preds = learn.get_preds(ds_type=DatasetType.Valid)[0]\n",
        "val_preds = [i[0] for i in val_preds.tolist()] \n",
        "val['Predicted'] = val_preds"
      ],
      "execution_count": null,
      "outputs": [
        {
          "output_type": "display_data",
          "data": {
            "text/html": [
              ""
            ],
            "text/plain": [
              "<IPython.core.display.HTML object>"
            ]
          },
          "metadata": {
            "tags": []
          }
        },
        {
          "output_type": "stream",
          "text": [
            "/usr/local/lib/python3.6/dist-packages/ipykernel_launcher.py:4: SettingWithCopyWarning: \n",
            "A value is trying to be set on a copy of a slice from a DataFrame.\n",
            "Try using .loc[row_indexer,col_indexer] = value instead\n",
            "\n",
            "See the caveats in the documentation: https://pandas.pydata.org/pandas-docs/stable/user_guide/indexing.html#returning-a-view-versus-a-copy\n",
            "  after removing the cwd from sys.path.\n"
          ],
          "name": "stderr"
        }
      ]
    },
    {
      "cell_type": "code",
      "metadata": {
        "id": "rwDdSqRH-mEh",
        "outputId": "b96edbed-9f0e-4df0-f84d-da2b60f50900",
        "colab": {
          "base_uri": "https://localhost:8080/",
          "height": 34
        }
      },
      "source": [
        "train_set.shape"
      ],
      "execution_count": null,
      "outputs": [
        {
          "output_type": "execute_result",
          "data": {
            "text/plain": [
              "(29451, 11)"
            ]
          },
          "metadata": {
            "tags": []
          },
          "execution_count": 62
        }
      ]
    },
    {
      "cell_type": "code",
      "metadata": {
        "id": "X9lo7s1D9oke",
        "outputId": "8bb15a7f-ad82-4b39-9f63-89dc4e6900c1",
        "colab": {
          "base_uri": "https://localhost:8080/",
          "height": 34
        }
      },
      "source": [
        "from sklearn.metrics import mean_squared_log_error\n",
        "pred = np.array(val_preds)\n",
        "ytrue = train_set['TARGET(PRICE_IN_LACS)'][23561:].values\n",
        "pred = np.abs(pred)\n",
        "ytrue = np.abs(ytrue)\n",
        "np.sqrt(mean_squared_log_error(ytrue,pred))"
      ],
      "execution_count": null,
      "outputs": [
        {
          "output_type": "execute_result",
          "data": {
            "text/plain": [
              "1.040010600430333"
            ]
          },
          "metadata": {
            "tags": []
          },
          "execution_count": 63
        }
      ]
    },
    {
      "cell_type": "code",
      "metadata": {
        "id": "je0Is4DqGPFU",
        "outputId": "7b64d2fa-9e9b-4ce6-874c-859d532f3a3b",
        "colab": {
          "base_uri": "https://localhost:8080/",
          "height": 363
        }
      },
      "source": [
        "val.head(10)"
      ],
      "execution_count": null,
      "outputs": [
        {
          "output_type": "execute_result",
          "data": {
            "text/html": [
              "<div>\n",
              "<style scoped>\n",
              "    .dataframe tbody tr th:only-of-type {\n",
              "        vertical-align: middle;\n",
              "    }\n",
              "\n",
              "    .dataframe tbody tr th {\n",
              "        vertical-align: top;\n",
              "    }\n",
              "\n",
              "    .dataframe thead th {\n",
              "        text-align: right;\n",
              "    }\n",
              "</style>\n",
              "<table border=\"1\" class=\"dataframe\">\n",
              "  <thead>\n",
              "    <tr style=\"text-align: right;\">\n",
              "      <th></th>\n",
              "      <th>POSTED_BY</th>\n",
              "      <th>UNDER_CONSTRUCTION</th>\n",
              "      <th>RERA</th>\n",
              "      <th>BHK_NO.</th>\n",
              "      <th>BHK_OR_RK</th>\n",
              "      <th>SQUARE_FT</th>\n",
              "      <th>READY_TO_MOVE</th>\n",
              "      <th>RESALE</th>\n",
              "      <th>LONGITUDE</th>\n",
              "      <th>LATITUDE</th>\n",
              "      <th>TARGET(PRICE_IN_LACS)</th>\n",
              "      <th>Predicted</th>\n",
              "    </tr>\n",
              "  </thead>\n",
              "  <tbody>\n",
              "    <tr>\n",
              "      <th>23561</th>\n",
              "      <td>Dealer</td>\n",
              "      <td>0</td>\n",
              "      <td>1</td>\n",
              "      <td>2</td>\n",
              "      <td>BHK</td>\n",
              "      <td>1239.473684</td>\n",
              "      <td>1</td>\n",
              "      <td>1</td>\n",
              "      <td>26.860560</td>\n",
              "      <td>80.915830</td>\n",
              "      <td>47.1</td>\n",
              "      <td>52.391129</td>\n",
              "    </tr>\n",
              "    <tr>\n",
              "      <th>23562</th>\n",
              "      <td>Owner</td>\n",
              "      <td>0</td>\n",
              "      <td>0</td>\n",
              "      <td>2</td>\n",
              "      <td>BHK</td>\n",
              "      <td>968.686641</td>\n",
              "      <td>1</td>\n",
              "      <td>1</td>\n",
              "      <td>15.459622</td>\n",
              "      <td>73.941404</td>\n",
              "      <td>43.0</td>\n",
              "      <td>28.207909</td>\n",
              "    </tr>\n",
              "    <tr>\n",
              "      <th>23563</th>\n",
              "      <td>Dealer</td>\n",
              "      <td>1</td>\n",
              "      <td>0</td>\n",
              "      <td>2</td>\n",
              "      <td>BHK</td>\n",
              "      <td>980.100980</td>\n",
              "      <td>0</td>\n",
              "      <td>1</td>\n",
              "      <td>19.304032</td>\n",
              "      <td>84.610965</td>\n",
              "      <td>33.0</td>\n",
              "      <td>37.471916</td>\n",
              "    </tr>\n",
              "    <tr>\n",
              "      <th>23564</th>\n",
              "      <td>Owner</td>\n",
              "      <td>0</td>\n",
              "      <td>0</td>\n",
              "      <td>1</td>\n",
              "      <td>BHK</td>\n",
              "      <td>700.097688</td>\n",
              "      <td>1</td>\n",
              "      <td>1</td>\n",
              "      <td>26.862600</td>\n",
              "      <td>75.763300</td>\n",
              "      <td>21.5</td>\n",
              "      <td>16.446129</td>\n",
              "    </tr>\n",
              "    <tr>\n",
              "      <th>23565</th>\n",
              "      <td>Builder</td>\n",
              "      <td>1</td>\n",
              "      <td>1</td>\n",
              "      <td>1</td>\n",
              "      <td>BHK</td>\n",
              "      <td>565.130261</td>\n",
              "      <td>0</td>\n",
              "      <td>0</td>\n",
              "      <td>16.897246</td>\n",
              "      <td>73.382029</td>\n",
              "      <td>14.1</td>\n",
              "      <td>7.848967</td>\n",
              "    </tr>\n",
              "    <tr>\n",
              "      <th>23566</th>\n",
              "      <td>Owner</td>\n",
              "      <td>0</td>\n",
              "      <td>0</td>\n",
              "      <td>1</td>\n",
              "      <td>BHK</td>\n",
              "      <td>344.475632</td>\n",
              "      <td>1</td>\n",
              "      <td>1</td>\n",
              "      <td>30.292178</td>\n",
              "      <td>78.068793</td>\n",
              "      <td>13.5</td>\n",
              "      <td>15.347199</td>\n",
              "    </tr>\n",
              "    <tr>\n",
              "      <th>23567</th>\n",
              "      <td>Dealer</td>\n",
              "      <td>1</td>\n",
              "      <td>0</td>\n",
              "      <td>2</td>\n",
              "      <td>BHK</td>\n",
              "      <td>723.085163</td>\n",
              "      <td>0</td>\n",
              "      <td>1</td>\n",
              "      <td>22.648322</td>\n",
              "      <td>88.443152</td>\n",
              "      <td>54.0</td>\n",
              "      <td>29.548740</td>\n",
              "    </tr>\n",
              "    <tr>\n",
              "      <th>23568</th>\n",
              "      <td>Owner</td>\n",
              "      <td>0</td>\n",
              "      <td>0</td>\n",
              "      <td>3</td>\n",
              "      <td>BHK</td>\n",
              "      <td>1250.000000</td>\n",
              "      <td>1</td>\n",
              "      <td>1</td>\n",
              "      <td>27.180000</td>\n",
              "      <td>78.020000</td>\n",
              "      <td>32.0</td>\n",
              "      <td>39.139229</td>\n",
              "    </tr>\n",
              "    <tr>\n",
              "      <th>23569</th>\n",
              "      <td>Owner</td>\n",
              "      <td>0</td>\n",
              "      <td>0</td>\n",
              "      <td>2</td>\n",
              "      <td>BHK</td>\n",
              "      <td>840.145322</td>\n",
              "      <td>1</td>\n",
              "      <td>1</td>\n",
              "      <td>22.659210</td>\n",
              "      <td>88.438400</td>\n",
              "      <td>18.5</td>\n",
              "      <td>18.196606</td>\n",
              "    </tr>\n",
              "    <tr>\n",
              "      <th>23570</th>\n",
              "      <td>Dealer</td>\n",
              "      <td>0</td>\n",
              "      <td>0</td>\n",
              "      <td>4</td>\n",
              "      <td>BHK</td>\n",
              "      <td>5092.003240</td>\n",
              "      <td>1</td>\n",
              "      <td>1</td>\n",
              "      <td>28.403138</td>\n",
              "      <td>77.070052</td>\n",
              "      <td>440.0</td>\n",
              "      <td>235.585342</td>\n",
              "    </tr>\n",
              "  </tbody>\n",
              "</table>\n",
              "</div>"
            ],
            "text/plain": [
              "      POSTED_BY  UNDER_CONSTRUCTION  ...  TARGET(PRICE_IN_LACS)   Predicted\n",
              "23561    Dealer                   0  ...                   47.1   52.391129\n",
              "23562     Owner                   0  ...                   43.0   28.207909\n",
              "23563    Dealer                   1  ...                   33.0   37.471916\n",
              "23564     Owner                   0  ...                   21.5   16.446129\n",
              "23565   Builder                   1  ...                   14.1    7.848967\n",
              "23566     Owner                   0  ...                   13.5   15.347199\n",
              "23567    Dealer                   1  ...                   54.0   29.548740\n",
              "23568     Owner                   0  ...                   32.0   39.139229\n",
              "23569     Owner                   0  ...                   18.5   18.196606\n",
              "23570    Dealer                   0  ...                  440.0  235.585342\n",
              "\n",
              "[10 rows x 12 columns]"
            ]
          },
          "metadata": {
            "tags": []
          },
          "execution_count": 35
        }
      ]
    },
    {
      "cell_type": "code",
      "metadata": {
        "id": "o102HGipGtSW",
        "outputId": "c14fd05b-5028-4e81-9d74-128f7228bc04",
        "colab": {
          "base_uri": "https://localhost:8080/",
          "height": 210
        }
      },
      "source": [
        "test_set.iloc[0]"
      ],
      "execution_count": null,
      "outputs": [
        {
          "output_type": "execute_result",
          "data": {
            "text/plain": [
              "POSTED_BY               Owner\n",
              "UNDER_CONSTRUCTION          0\n",
              "RERA                        0\n",
              "BHK_NO.                     1\n",
              "BHK_OR_RK                 BHK\n",
              "SQUARE_FT             545.171\n",
              "READY_TO_MOVE               1\n",
              "RESALE                      1\n",
              "LONGITUDE              21.262\n",
              "LATITUDE              73.0477\n",
              "Name: 0, dtype: object"
            ]
          },
          "metadata": {
            "tags": []
          },
          "execution_count": 29
        }
      ]
    },
    {
      "cell_type": "code",
      "metadata": {
        "id": "SM7fIlHnG9Uc",
        "outputId": "d347e398-96dc-4d7f-b1d1-b59776a9e91d",
        "colab": {
          "base_uri": "https://localhost:8080/",
          "height": 34
        }
      },
      "source": [
        "#Prediction in float for Test set data for row 0\n",
        "float(learn.predict(test_set.iloc[0])[1])"
      ],
      "execution_count": null,
      "outputs": [
        {
          "output_type": "execute_result",
          "data": {
            "text/plain": [
              "16.193439483642578"
            ]
          },
          "metadata": {
            "tags": []
          },
          "execution_count": 30
        }
      ]
    },
    {
      "cell_type": "code",
      "metadata": {
        "id": "32V58p3QHEFq",
        "outputId": "09660e2e-1943-41f5-f152-b8918d047c28",
        "colab": {
          "base_uri": "https://localhost:8080/",
          "height": 17
        }
      },
      "source": [
        "test_predictions = np.abs(learn.get_preds(ds_type=DatasetType.Test)[0])"
      ],
      "execution_count": null,
      "outputs": [
        {
          "output_type": "display_data",
          "data": {
            "text/html": [
              ""
            ],
            "text/plain": [
              "<IPython.core.display.HTML object>"
            ]
          },
          "metadata": {
            "tags": []
          }
        }
      ]
    },
    {
      "cell_type": "code",
      "metadata": {
        "id": "NUlm64KOHMTh"
      },
      "source": [
        "#Converting the tensor output to a list of predicted values\n",
        "test_predictions = [i[0] for i in test_predictions.tolist()]"
      ],
      "execution_count": null,
      "outputs": []
    },
    {
      "cell_type": "code",
      "metadata": {
        "id": "TcD9JSOBHP9d"
      },
      "source": [
        "#Converting the prediction to . a dataframe\n",
        "test_predictions = pd.DataFrame(test_predictions, columns = ['TARGET(PRICE_IN_LACS)'])"
      ],
      "execution_count": null,
      "outputs": []
    },
    {
      "cell_type": "code",
      "metadata": {
        "id": "9EBdY5NEHa-O"
      },
      "source": [
        "#Writing the predictions to an excel file.\n",
        "test_predictions.to_csv(\"submit.csv\", index = False)"
      ],
      "execution_count": null,
      "outputs": []
    },
    {
      "cell_type": "code",
      "metadata": {
        "id": "HY3iHb_CHj9D"
      },
      "source": [
        ""
      ],
      "execution_count": null,
      "outputs": []
    }
  ]
}